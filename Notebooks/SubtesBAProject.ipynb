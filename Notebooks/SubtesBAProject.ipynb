{
 "cells": [
  {
   "cell_type": "markdown",
   "metadata": {},
   "source": [
    "For Plotly graphics a plotly user with key must be generated and configured as the instructions detail in here.https://plot.ly/python/getting-started/"
   ]
  },
  {
   "cell_type": "code",
   "execution_count": 4,
   "metadata": {},
   "outputs": [],
   "source": [
    "import pandas as pd\n",
    "import datetime\n",
    "import matplotlib.pyplot as plt\n",
    "import plotly.plotly as ply\n",
    "import plotly.graph_objs as go\n",
    "from datetime import datetime\n",
    "import numpy as np\n",
    "pd.set_option('float_format', '{:,f}'.format)\n",
    "\n",
    "from plotly import tools\n",
    "import sys\n",
    "import plotly \n",
    "import plotly.plotly as py\n",
    "\n",
    "\n"
   ]
  },
  {
   "cell_type": "markdown",
   "metadata": {},
   "source": [
    "Subset de todas las lineas para los graficos de presentacion"
   ]
  },
  {
   "cell_type": "code",
   "execution_count": null,
   "metadata": {
    "scrolled": true
   },
   "outputs": [],
   "source": [
    "mol_2018 = pd.read_csv(r'Mol 2018.csv', sep=\",\")\n",
    "\n",
    "mol_2018.columns = map(str.upper, mol_2018.columns)\n",
    "mol_2018['FECHA'] = pd.to_datetime(mol_2018['FECHA'])\n",
    "mol_2018['Month'] = pd.DatetimeIndex(mol_2018['FECHA']).month\n",
    "mol_2018['Year'] = pd.DatetimeIndex(mol_2018['FECHA']).year\n",
    "\n",
    "mol_2018.drop(['PAX_PAGOS'],axis=1,inplace=True)\n",
    "mol_2018.drop(['PAX_PASES_PAGOS'],axis=1,inplace=True)\n",
    "mol_2018.drop(['PAX_FRANQ'],axis=1,inplace=True)\n",
    "\n",
    "mol_2018['TOTAL'].fillna(0, inplace=True)\n",
    "mol_2018.dropna(how='any', inplace=True)\n",
    "\n",
    "malestag=['AgÃ\\x83Â\\x83Ã\\x82Â\\x83Ã\\x83Â\\x82Ã\\x82Â\\x83Ã\\x83Â\\x83Ã\\x82Â\\x82Ã\\x83Â\\x82Ã\\x82Â\\x83Ã\\x83Â\\x83Ã\\x82Â\\x83Ã\\x83Â\\x82Ã\\x82Â\\x82Ã\\x83Â\\x83Ã\\x82Â\\x82Ã\\x83Â\\x82Ã\\x82Â¼ero',\n",
    "       'AgÃ\\x83Â\\x83Ã\\x82Â\\x83Ã\\x83Â\\x82Ã\\x82Â\\x83Ã\\x83Â\\x83Ã\\x82Â\\x82Ã\\x83Â\\x82Ã\\x82Â¼ero',\n",
    "       'AgÃ\\x83Â\\x83Ã\\x82Â\\x83Ã\\x83Â\\x82Ã\\x82Â¼ero',\n",
    "       'AgÃ\\x83Â\\x83Ã\\x82Â¼ero','AgÃ\\x83Â¼ero','AgÃ¼ero', 'Agüero']\n",
    "\n",
    "mol_2018['ESTACION'] = mol_2018.ESTACION.apply(lambda x: 'AGUERO' if x in malestag else x)\n",
    "\n",
    "\n",
    "malestsp = ['SAENZ PEÃ\\x83Â\\x83Ã\\x82Â\\x83Ã\\x83Â\\x82Ã\\x82Â\\x83Ã\\x83Â\\x83Ã\\x82Â\\x82Ã\\x83Â\\x82Ã\\x82Â\\x83Ã\\x83Â\\x83Ã\\x82Â\\x83Ã\\x83Â\\x82Ã\\x82Â\\x82Ã\\x83Â\\x83Ã\\x82Â\\x82Ã\\x83Â\\x82Ã\\x82Â\\x91A',\n",
    "           'Saenz PeÃ\\x83Â\\x83Ã\\x82Â\\x83Ã\\x83Â\\x82Ã\\x82Â\\x83Ã\\x83Â\\x83Ã\\x82Â\\x82Ã\\x83Â\\x82Ã\\x82Â\\x83Ã\\x83Â\\x83Ã\\x82Â\\x83Ã\\x83Â\\x82Ã\\x82Â\\x82Ã\\x83Â\\x83Ã\\x82Â\\x82Ã\\x83Â\\x82Ã\\x82Â±a ',\n",
    "           'Saenz PeÃ\\x83Â\\x83Ã\\x82Â\\x83Ã\\x83Â\\x82Ã\\x82Â\\x83Ã\\x83Â\\x83Ã\\x82Â\\x82Ã\\x83Â\\x82Ã\\x82Â±a ',\n",
    "           'Saenz PeÃ\\x83Â\\x83Ã\\x82Â\\x83Ã\\x83Â\\x82Ã\\x82Â±a ',\n",
    "           'Saenz PeÃ\\x83Â\\x83Ã\\x82Â±a ','Saenz PeÃ\\x83Â±a ','Saenz PeÃ±a ', 'Saenz Peña ']\n",
    "mol_2018['ESTACION'] = mol_2018.ESTACION.apply(lambda x: 'Saenz Pena' if x in malestsp else x)\n",
    "\n",
    "\n",
    "mol_2018['LINEA'][mol_2018['LINEA'] =='LineaA'] = \"LINEA_A\"\n",
    "mol_2018['LINEA'][mol_2018['LINEA'] =='LineaB'] = \"LINEA_B\"\n",
    "mol_2018['LINEA'][mol_2018['LINEA'] =='LineaC'] = \"LINEA_C\"\n",
    "mol_2018['LINEA'][mol_2018['LINEA'] =='LineaD'] = \"LINEA_D\"\n",
    "mol_2018['LINEA'][mol_2018['LINEA'] =='LineaE'] = \"LINEA_E\"\n",
    "mol_2018['LINEA'][mol_2018['LINEA'] =='LineaH'] = \"LINEA_H\"\n",
    "\n",
    "\n",
    "mol_2018.to_csv(\"Todaslineas.csv\", sep=';', encoding='utf-8')\n",
    "\n",
    "\n",
    "#atot=mol_2018.groupby(['ESTACION','MOLINETE','FECHA'], as_index=False)['TOTAL'].sum()\n",
    "#atot"
   ]
  },
  {
   "cell_type": "markdown",
   "metadata": {},
   "source": [
    "Pie con totales por linea"
   ]
  },
  {
   "cell_type": "code",
   "execution_count": null,
   "metadata": {},
   "outputs": [],
   "source": [
    "mol_2018 = pd.read_csv(r'Todaslineas.csv', sep=\";\")\n",
    "totlinea=mol_2018.groupby('LINEA', as_index=False)['TOTAL'].sum()\n",
    "\n",
    "\n",
    "labels = totlinea.LINEA\n",
    "sizes = totlinea.TOTAL\n",
    "\n",
    "fig, axs = plt.subplots(figsize=(30,10))\n",
    "axs.pie(sizes,  labels=labels, autopct='%1.1f%%',shadow=True, startangle=90)\n",
    "axs.set_title('Total Pasajeros por Linea 2018')\n",
    "\n",
    "\n",
    "plt.show()\n"
   ]
  },
  {
   "cell_type": "markdown",
   "metadata": {},
   "source": [
    "BARRA Y PIE con totales por linea"
   ]
  },
  {
   "cell_type": "code",
   "execution_count": null,
   "metadata": {},
   "outputs": [],
   "source": [
    "labels = totlinea.LINEA\n",
    "sizes = totlinea.TOTAL\n",
    "#explode = (0, 0.1, 0, 0)  # only \"explode\" the 2nd slice (i.e. 'Hogs')\n",
    "\n",
    "#bar chart\n",
    "index = np.arange(totlinea.LINEA.count())\n",
    "bar_width = 0.35\n",
    "opacity = 0.4\n",
    "\n",
    "\n",
    "\n",
    "fig, axs = plt.subplots(2, 1, figsize=(30,20))\n",
    "axs[0].pie(sizes,  labels=labels, autopct='%1.1f%%',shadow=True, startangle=90)                     \n",
    "axs[1].bar(index, totlinea.TOTAL, bar_width,\n",
    "                alpha=opacity, color=np.random.rand ( 256,3),\n",
    "                label='Estacion')\n",
    "axs[1].set_xticks(index + bar_width / 2)\n",
    "axs[1].set_xticklabels(totlinea.LINEA)\n",
    "axs[1].legend()\n",
    "\n",
    "\n",
    "#fig.tight_layout()\n",
    "\n",
    "plt.show()\n"
   ]
  },
  {
   "cell_type": "markdown",
   "metadata": {},
   "source": [
    "Grafico LINEAL con totales por linea"
   ]
  },
  {
   "cell_type": "code",
   "execution_count": null,
   "metadata": {},
   "outputs": [],
   "source": [
    "totlineames=mol_2018.groupby(['LINEA','Month'], as_index=False)['TOTAL'].sum()\n",
    "\n",
    "totlineaA=totlineames[totlineames.LINEA=='LINEA_A']\n",
    "totlineaB=totlineames[totlineames.LINEA=='LINEA_B']\n",
    "totlineaC=totlineames[totlineames.LINEA=='LINEA_C']\n",
    "totlineaD=totlineames[totlineames.LINEA=='LINEA_D']\n",
    "totlineaE=totlineames[totlineames.LINEA=='LINEA_E']\n",
    "totlineaH=totlineames[totlineames.LINEA=='LINEA_H']\n",
    "\n",
    "data1 = [go.Scatter(x=totlineaA.Month,y=totlineaA.TOTAL,mode ='lines+markers',\n",
    "                   name=\"LineaA\",\n",
    "                   text=\"\"),\n",
    "         go.Scatter(x=totlineaB.Month,y=totlineaB.TOTAL,mode ='lines+markers',\n",
    "                   name=\"LineaB\",\n",
    "                   text=\"\"),\n",
    "         go.Scatter(x=totlineaC.Month,y=totlineaC.TOTAL,mode ='lines+markers',\n",
    "                   name=\"LineaC\",\n",
    "                   text=\"\"),\n",
    "         go.Scatter(x=totlineaD.Month,y=totlineaD.TOTAL,mode ='lines+markers',\n",
    "                   name=\"LineaD\",\n",
    "                   text=\"\"),\n",
    "         go.Scatter(x=totlineaE.Month,y=totlineaE.TOTAL,mode ='lines+markers',\n",
    "                   name=\"LineaE\",\n",
    "                   text=\"\"),\n",
    "         go.Scatter(x=totlineaH.Month,y=totlineaH.TOTAL,mode ='lines+markers',\n",
    "                   name=\"LineaH\",\n",
    "                   text=\"\")]\n",
    "\n",
    "\n",
    "#data2 = go.Scatter(x=sdf.DESDE,y=sdf['MEAN'].apply(np.round),name=\"MEAN\")\n",
    "\n",
    "layout = dict(title = 'Total pasajeros por mes 2018',\n",
    "              xaxis = dict(title = 'Mes',dtick=1),\n",
    "              yaxis = dict(title = 'Cantidad pasajeros(millones)')\n",
    "              )\n",
    "\n",
    "fig = dict(data=data1,layout=layout)\n",
    "\n",
    "\n",
    "py.iplot(fig)"
   ]
  },
  {
   "cell_type": "markdown",
   "metadata": {},
   "source": [
    "Problemas de las lineas ( con dataset de twitter)"
   ]
  },
  {
   "cell_type": "code",
   "execution_count": null,
   "metadata": {},
   "outputs": [],
   "source": [
    "twitt = pd.read_csv(\"Twittermetrovias.csv\", sep=\";\")\n",
    "twitt['Issuetype']=twitt['Issuetype'].apply(lambda x: 0 if 'Normal' in x else 1)\n",
    "twitt['Month']= pd.DatetimeIndex(twitt['DATE']).month\n",
    "\n"
   ]
  },
  {
   "cell_type": "markdown",
   "metadata": {},
   "source": [
    "PIE PROBLEMAS LINEAS"
   ]
  },
  {
   "cell_type": "code",
   "execution_count": null,
   "metadata": {},
   "outputs": [],
   "source": [
    "twitttot=twitt.groupby('LINEA', as_index=False)['Issuetype'].sum()\n",
    "\n",
    "\n",
    "labels = twitttot.LINEA\n",
    "sizes = twitttot.Issuetype\n",
    "\n",
    "fig, axs = plt.subplots(figsize=(30,10))\n",
    "axs.pie(sizes,  labels=labels, autopct='%1.1f%%',shadow=True, startangle=90)     \n",
    "axs.set_title('Total problemas por Linea 2018')\n",
    "\n",
    "plt.show()\n"
   ]
  },
  {
   "cell_type": "markdown",
   "metadata": {},
   "source": [
    "BARRA Y PIE con problemas por linea"
   ]
  },
  {
   "cell_type": "code",
   "execution_count": null,
   "metadata": {},
   "outputs": [],
   "source": [
    "labels = twitttot.LINEA\n",
    "sizes = twitttot.Issuetype\n",
    "#explode = (0, 0.1, 0, 0)  # only \"explode\" the 2nd slice (i.e. 'Hogs')\n",
    "\n",
    "#bar chart\n",
    "index = np.arange(twitttot.LINEA.count())\n",
    "bar_width = 0.35\n",
    "opacity = 0.4\n",
    "\n",
    "\n",
    "\n",
    "fig, axs = plt.subplots(2, 1, figsize=(30,20))\n",
    "axs[0].pie(sizes,  labels=labels, autopct='%1.1f%%',shadow=True, startangle=90)                     \n",
    "axs[1].bar(index, twitttot.Issuetype, bar_width,\n",
    "                alpha=opacity, color=np.random.rand ( 256,3),\n",
    "                label='Estacion')\n",
    "axs[1].set_xticks(index + bar_width / 2)\n",
    "axs[1].set_xticklabels(twitttot.LINEA)\n",
    "axs[1].legend()\n",
    "\n",
    "\n",
    "#fig.tight_layout()\n",
    "\n",
    "plt.show()"
   ]
  },
  {
   "cell_type": "markdown",
   "metadata": {},
   "source": [
    "Grafico problemas de las lineas por linea"
   ]
  },
  {
   "cell_type": "code",
   "execution_count": null,
   "metadata": {},
   "outputs": [],
   "source": [
    "twitttot=twitt.groupby(['LINEA','Month'], as_index=False)['Issuetype'].sum()\n",
    "\n",
    "twitttotA=twitttot[twitttot.LINEA=='LINEA_A']\n",
    "twitttotB=twitttot[twitttot.LINEA=='LINEA_B']\n",
    "twitttotC=twitttot[twitttot.LINEA=='LINEA_C']\n",
    "twitttotD=twitttot[twitttot.LINEA=='LINEA_D']\n",
    "twitttotE=twitttot[twitttot.LINEA=='LINEA_E']\n",
    "twitttotH=twitttot[twitttot.LINEA=='LINEA_H']\n",
    "\n",
    "data1 = [go.Scatter(x=twitttotA.Month,y=twitttotA.Issuetype,mode ='lines+markers',\n",
    "                   name=\"LineaA\",\n",
    "                   text=\"\"),\n",
    "         go.Scatter(x=twitttotB.Month,y=twitttotB.Issuetype,mode ='lines+markers',\n",
    "                   name=\"LineaB\",\n",
    "                   text=\"\"),\n",
    "         go.Scatter(x=twitttotC.Month,y=twitttotC.Issuetype,mode ='lines+markers',\n",
    "                   name=\"LineaC\",\n",
    "                   text=\"\"),\n",
    "         go.Scatter(x=twitttotD.Month,y=twitttotD.Issuetype,mode ='lines+markers',\n",
    "                   name=\"LineaD\",\n",
    "                   text=\"\"),\n",
    "         go.Scatter(x=twitttotE.Month,y=twitttotE.Issuetype,mode ='lines+markers',\n",
    "                   name=\"LineaE\",\n",
    "                   text=\"\"),\n",
    "         go.Scatter(x=twitttotH.Month,y=twitttotH.Issuetype,mode ='lines+markers',\n",
    "                   name=\"LineaH\",\n",
    "                   text=\"\")]\n",
    "\n",
    "\n",
    "#data2 = go.Scatter(x=sdf.DESDE,y=sdf['MEAN'].apply(np.round),name=\"MEAN\")\n",
    "\n",
    "layout = dict(title = 'Problemas por mes 2018',\n",
    "              xaxis = dict(title = 'Mes',dtick=1),\n",
    "              yaxis = dict(title = 'Cantidad de problemas')\n",
    "              )\n",
    "\n",
    "fig = dict(data=data1,layout=layout)\n",
    "\n",
    "\n",
    "py.iplot(fig)"
   ]
  },
  {
   "cell_type": "markdown",
   "metadata": {},
   "source": [
    "problemas de la linea A"
   ]
  },
  {
   "cell_type": "code",
   "execution_count": null,
   "metadata": {},
   "outputs": [],
   "source": [
    "LINEAA=twitt[twitt.LINEA=='LINEA_A']\n",
    "LINEAATOT=LINEAA.groupby(['LINEA','Month'], as_index=False)['Issuetype'].sum()\n",
    "\n",
    "data1 = [go.Scatter(x=LINEAATOT.Month,y=LINEAATOT.Issuetype,mode ='lines+markers',\n",
    "                   name=\"LineaA\")]\n",
    "\n",
    "layout = dict(title = 'Problemas por mes 2018',\n",
    "              xaxis = dict(title = 'Mes',dtick=1),\n",
    "              yaxis = dict(title = 'Cantidad de problemas')\n",
    "              )\n",
    "\n",
    "fig = dict(data=data1,layout=layout)\n",
    "\n",
    "\n",
    "py.iplot(fig)"
   ]
  },
  {
   "cell_type": "code",
   "execution_count": null,
   "metadata": {},
   "outputs": [],
   "source": [
    "\n",
    "\n",
    "LINEAA['Issuetype']=LINEAA['TEXT'].apply(lambda x: 'demora' if 'demora' in x else 'interrumpido' if 'interrumpido' in x else 'Normal' if 'frecuencia normal' in x else 'limitado' if 'limitado' in x else 'Normal')\n",
    "LINEAA['Issuetype2']=LINEAA['Issuetype'].apply(lambda x: 0 if 'Normal' in x else 1)\n",
    "#LINEAA\n",
    "LINEAA2=LINEAA.groupby(['Issuetype'], as_index=False)['Issuetype2'].sum()\n",
    "LINEAA2=LINEAA2[LINEAA2.Issuetype!='Normal']\n",
    "\n",
    "index = np.arange(LINEAA2.Issuetype.count())\n",
    "bar_width = 0.35\n",
    "opacity = 0.4\n",
    "\n",
    "\n",
    "\n",
    "fig, axs = plt.subplots( figsize=(20,20))                  \n",
    "axs.bar(index, LINEAA2.Issuetype2, bar_width,\n",
    "                alpha=opacity, color=np.random.rand ( 256,3),\n",
    "                label='Estacion')\n",
    "axs.set_xticks(index + bar_width / 2)\n",
    "axs.set_xticklabels(LINEAA2.Issuetype)\n",
    "axs.legend()\n",
    "\n",
    "plt.show()"
   ]
  },
  {
   "cell_type": "code",
   "execution_count": null,
   "metadata": {},
   "outputs": [],
   "source": [
    "\n",
    "LINEAA2=LINEAA.groupby(['Issuetype','Month'], as_index=False)['Issuetype2'].sum()\n",
    "LINEAA2=LINEAA2[LINEAA2.Issuetype!='Normal']\n",
    "\n",
    "data1 = [go.Scatter(x=LINEAA2[LINEAA2.Issuetype=='demora'].Month,y=LINEAA2[LINEAA2.Issuetype=='demora'].Issuetype2,mode ='lines+markers',\n",
    "                   name=\"Demora\"),\n",
    "         go.Scatter(x=LINEAA2[LINEAA2.Issuetype=='interrumpido'].Month,y=LINEAA2[LINEAA2.Issuetype=='interrumpido'].Issuetype2,mode ='lines+markers',\n",
    "                   name=\"Interrumpido\"),\n",
    "         go.Scatter(x=LINEAA2[LINEAA2.Issuetype=='limitado'].Month,y=LINEAA2[LINEAA2.Issuetype=='limitado'].Issuetype2,mode ='lines+markers',\n",
    "                   name=\"Limitado\")]\n",
    "\n",
    "layout = dict(title = 'Tipo de eventos por mes 2018',\n",
    "              xaxis = dict(title = 'Mes',dtick=1),\n",
    "              yaxis = dict(title = 'Cantidad de eventos',dtick=5)\n",
    "              )\n",
    "\n",
    "fig = dict(data=data1,layout=layout)\n",
    "\n",
    "\n",
    "py.iplot(fig)"
   ]
  },
  {
   "cell_type": "code",
   "execution_count": null,
   "metadata": {},
   "outputs": [],
   "source": [
    "armar grafico de anomalias con relacion al total\n",
    "\n",
    "poner al principio masomenos lo de la api de twitter\n",
    "\n",
    "graficos de barras con lienas max y minimos \n",
    "\n",
    "la hora donde se pierde mayor cantidad de plata"
   ]
  },
  {
   "cell_type": "markdown",
   "metadata": {},
   "source": [
    "Anomalias con realcion al total"
   ]
  },
  {
   "cell_type": "code",
   "execution_count": null,
   "metadata": {},
   "outputs": [],
   "source": [
    "#LINEAA.to_csv(\"Twits_Linea_A.csv\", sep=';', encoding='utf-8')\n",
    "#MolA=mol_2018[mol_2018['LINEA']=='LINEA_A']\n",
    "#MolA.to_csv(\"Mol_Linea_A.csv\", sep=';', encoding='utf-8')\n",
    "\n",
    "Totalmesmol=MolA.groupby(['Month'], as_index=False)['TOTAL'].sum()\n",
    "Totalmesano=LINEAA.groupby(['Month'], as_index=False)['Issuetype2'].sum()\n"
   ]
  },
  {
   "cell_type": "code",
   "execution_count": null,
   "metadata": {},
   "outputs": [],
   "source": [
    "#divide pro millon\n",
    "Totalmesmol['TOTAL']=Totalmesmol['TOTAL'].apply(lambda x: x/1000000)\n",
    "Totalmesmol\n"
   ]
  },
  {
   "cell_type": "code",
   "execution_count": null,
   "metadata": {},
   "outputs": [],
   "source": [
    "#junta los dos datasets y  crea la columna division para dividir las dos columnas\n",
    "Totalmesmolano = pd.merge(Totalmesmol,Totalmesano,how='left',on=['Month'])\n",
    "Totalmesmolano['division'] = (Totalmesmolano.Issuetype2 / Totalmesmolano.TOTAL)\n",
    "Totalmesmolano"
   ]
  },
  {
   "cell_type": "markdown",
   "metadata": {},
   "source": [
    "Por dia totales"
   ]
  },
  {
   "cell_type": "code",
   "execution_count": null,
   "metadata": {},
   "outputs": [],
   "source": [
    "Totalmesmoltiem=MolA.groupby(['FECHA'], as_index=False)['TOTAL'].sum()\n",
    "data1 = [go.Scatter(x=Totalmesmoltiem.FECHA,y=Totalmesmoltiem.TOTAL,mode ='lines+markers',\n",
    "                   name=\"Demora\")]\n",
    "\n",
    "layout = dict(title = 'Cantidad de pasajeros Linea A por dia 2018',\n",
    "              xaxis = dict(title = 'Dia'),\n",
    "              yaxis = dict(title = 'Cantidad de pasajeros')\n",
    "              )\n",
    "\n",
    "fig = dict(data=data1,layout=layout)\n",
    "\n",
    "\n",
    "py.iplot(fig)"
   ]
  },
  {
   "cell_type": "code",
   "execution_count": null,
   "metadata": {},
   "outputs": [],
   "source": [
    "Totalmesmoltiem2=MolA.groupby(['Month','DESDE'], as_index=False)['TOTAL'].sum()\n",
    "data1 = [go.Scatter(x=Totalmesmoltiem2.DESDE,y=Totalmesmoltiem2.TOTAL,mode ='lines+markers',\n",
    "                   name=\"Demora\")]\n",
    "\n",
    "layout = dict(title = 'Cantidad de pasajeros Linea A por dia 2018',\n",
    "              xaxis = dict(title = 'Dia'),\n",
    "              yaxis = dict(title = 'Cantidad de pasajeros')\n",
    "              )\n",
    "\n",
    "fig = dict(data=data1,layout=layout)\n",
    "\n",
    "\n",
    "py.iplot(fig)"
   ]
  },
  {
   "cell_type": "code",
   "execution_count": null,
   "metadata": {},
   "outputs": [],
   "source": [
    "#EVENTOS RELACION CON TOTALES\n",
    "proporcion = pd.merge(totlineames,twitttot,how='left',on=['LINEA','Month'])\n",
    "proporcion['TOTAL']= proporcion['TOTAL']/1000\n",
    "proporcion['eventos'] = proporcion['Issuetype']/proporcion['TOTAL']\n",
    "\n",
    "\n",
    "\n",
    "#line plot\n",
    "data1 = [go.Scatter(x=proporcion[proporcion.LINEA=='LINEA_A'].Month,y=proporcion[proporcion.LINEA=='LINEA_A'].eventos,mode ='lines+markers',\n",
    "                   name=\"LINEA A\"),\n",
    "         go.Scatter(x=proporcion[proporcion.LINEA=='LINEA_B'].Month,y=proporcion[proporcion.LINEA=='LINEA_B'].eventos,mode ='lines+markers',\n",
    "                   name=\"LINEA B\"),\n",
    "         go.Scatter(x=proporcion[proporcion.LINEA=='LINEA_C'].Month,y=proporcion[proporcion.LINEA=='LINEA_C'].eventos,mode ='lines+markers',\n",
    "                   name=\"LINEA C\"),\n",
    "         go.Scatter(x=proporcion[proporcion.LINEA=='LINEA_D'].Month,y=proporcion[proporcion.LINEA=='LINEA_D'].eventos,mode ='lines+markers',\n",
    "                   name=\"LINEA D\"),\n",
    "         go.Scatter(x=proporcion[proporcion.LINEA=='LINEA_E'].Month,y=proporcion[proporcion.LINEA=='LINEA_E'].eventos,mode ='lines+markers',\n",
    "                   name=\"LINEA E\"),\n",
    "         go.Scatter(x=proporcion[proporcion.LINEA=='LINEA_H'].Month,y=proporcion[proporcion.LINEA=='LINEA_H'].eventos,mode ='lines+markers',\n",
    "                   name=\"LINEA H\")]\n",
    "\n",
    "layout = dict(title = 'Relacion eventos pasajeros 2018',\n",
    "              xaxis = dict(title = 'Mes',dtick=1),\n",
    "              yaxis = dict(title = 'Eventos/Pasajeros (miles)')\n",
    "              )\n",
    "\n",
    "fig = dict(data=data1,layout=layout)\n",
    "\n",
    "\n",
    "py.iplot(fig)"
   ]
  },
  {
   "cell_type": "markdown",
   "metadata": {},
   "source": [
    "Codigo de javi"
   ]
  },
  {
   "cell_type": "code",
   "execution_count": null,
   "metadata": {},
   "outputs": [],
   "source": [
    "#cargue y puse todos los subset al dataset que tiene toda la linea A desde el dataset que tiene todas las lineas\n",
    "Todaslineas = pd.read_csv(r'Todaslineas.csv', sep=\";\")\n",
    "Todaslineas = Todaslineas[Todaslineas.LINEA=='LINEA_A']\n",
    "#Abril['FECHA'] = pd.to_datetime(pd.Series(Abril['FECHA']), format=\"%Y/%m/%d\")\n",
    "Todaslineas['WeekDay'] = pd.to_datetime(pd.Series(Todaslineas['FECHA']), format=\"%Y/%m/%d\").dt.strftime(\"%A\")\n",
    "\n"
   ]
  },
  {
   "cell_type": "markdown",
   "metadata": {},
   "source": [
    "Evento de abril"
   ]
  },
  {
   "cell_type": "code",
   "execution_count": null,
   "metadata": {},
   "outputs": [],
   "source": [
    "\n",
    "#filtro por todos los martes de abril\n",
    "Abril=Todaslineas[Todaslineas.Month==4]\n",
    "\n",
    "\n",
    "#hago un nuevo datasets con los totales por fecha, saco la media de todo abril y creo una columna para que tenga\n",
    "#el mismo numero de la media para poder graficarlo y otra columna para los nombres de los dias\n",
    "AbrilFechaMedia = Abril.groupby('FECHA', as_index=False)['TOTAL'].sum()\n",
    "AbrilFechaMedianum =AbrilFechaMedia.TOTAL.mean()\n",
    "AbrilFechaMedia['Mean'] = AbrilFechaMedianum\n",
    "AbrilFechaMedia['WeekDay'] = pd.to_datetime(pd.Series(AbrilFechaMedia['FECHA']), format=\"%Y/%m/%d\").dt.strftime(\"%A\")\n",
    "\n",
    "\n",
    "\n",
    "\n",
    "\n",
    "\n",
    "data1 = [go.Scatter(x=AbrilFechaMedia.FECHA,y=AbrilFechaMedia.TOTAL,mode ='lines+markers',\n",
    "                   name=\"Total Pasajeros\",\n",
    "                   text=AbrilFechaMedia['WeekDay']),\n",
    "         go.Scatter(x=AbrilFechaMedia.FECHA,y=AbrilFechaMedia.Mean,mode ='lines',\n",
    "                   name=\"Media Abril\"),\n",
    "         go.Scatter(x=['2018-04-10'],y=[523005],mode ='markers',\n",
    "                   name=\"Debate Aborto\",\n",
    "                   marker=dict(\n",
    "                    size=16,\n",
    "                    color='rgba(200, 0, 0, .8)'))]\n",
    "\n",
    "\n",
    "#data2 = go.Scatter(x=sdf.DESDE,y=sdf['MEAN'].apply(np.round),name=\"MEAN\")\n",
    "\n",
    "layout = dict(title = 'Debate Aborto Abril 2018',\n",
    "              xaxis = dict(title = 'Fecha'),\n",
    "              yaxis = dict(title = 'Cantidad de Pasajeros')\n",
    "              )\n",
    "\n",
    "fig = dict(data=data1,layout=layout)\n",
    "\n",
    "\n",
    "py.iplot(fig)"
   ]
  },
  {
   "cell_type": "markdown",
   "metadata": {},
   "source": [
    "Evento de Octubre"
   ]
  },
  {
   "cell_type": "code",
   "execution_count": null,
   "metadata": {},
   "outputs": [],
   "source": [
    "\n",
    "\n",
    "octubre=Todaslineas[Todaslineas.Month==10]\n",
    "\n",
    "\n",
    "#hago un nuevo datasets con los totales por fecha, saco la media de todo abril y creo una columna para que tenga\n",
    "#el mismo numero de la media para poder graficarlo y otra columna para los nombres de los dias\n",
    "OctubreFechaMedia = octubre.groupby('FECHA', as_index=False)['TOTAL'].sum()\n",
    "OcubreFechaMedianum =AbrilFechaMedia.TOTAL.mean()\n",
    "OctubreFechaMedia['Mean'] = OcubreFechaMedianum\n",
    "OctubreFechaMedia['WeekDay'] = pd.to_datetime(pd.Series(OctubreFechaMedia['FECHA']), format=\"%Y/%m/%d\").dt.strftime(\"%A\")\n",
    "\n",
    "\n",
    "\n",
    "\n",
    "data1 = [go.Scatter(x=OctubreFechaMedia.FECHA,y=OctubreFechaMedia.TOTAL,mode ='lines+markers',\n",
    "                   name=\"Total Pasajeros\",\n",
    "                   text=OctubreFechaMedia['WeekDay']),\n",
    "         go.Scatter(x=OctubreFechaMedia.FECHA,y=OctubreFechaMedia.Mean,mode ='lines',\n",
    "                   name=\"Media Octubre\")]\n",
    "\n",
    "\n",
    "#data2 = go.Scatter(x=sdf.DESDE,y=sdf['MEAN'].apply(np.round),name=\"MEAN\")\n",
    "\n",
    "layout = dict(title = 'Fin de Semana Largo Octubre 2018',\n",
    "              xaxis = dict(title = 'Fecha'),\n",
    "              yaxis = dict(title = 'Cantidad de Pasajeros')\n",
    "              )\n",
    "\n",
    "fig = dict(data=data1,layout=layout)\n",
    "\n",
    "\n",
    "py.iplot(fig)\n",
    "\n",
    "\n",
    "\n",
    "\n",
    "\n"
   ]
  },
  {
   "cell_type": "markdown",
   "metadata": {},
   "source": [
    "Evento Noviembre"
   ]
  },
  {
   "cell_type": "code",
   "execution_count": null,
   "metadata": {},
   "outputs": [],
   "source": [
    "\n",
    "Noviembre=Todaslineas[Todaslineas.Month==11]\n",
    "\n",
    "\n",
    "#hago un nuevo datasets con los totales por fecha, saco la media de todo abril y creo una columna para que tenga\n",
    "#el mismo numero de la media para poder graficarlo y otra columna para los nombres de los dias\n",
    "NoviembreFechaMedia = Noviembre.groupby('FECHA', as_index=False)['TOTAL'].sum()\n",
    "NoviembreFechaMedianum =AbrilFechaMedia.TOTAL.mean()\n",
    "NoviembreFechaMedia['Mean'] = NoviembreFechaMedianum\n",
    "NoviembreFechaMedia['WeekDay'] = pd.to_datetime(pd.Series(NoviembreFechaMedia['FECHA']), format=\"%Y/%m/%d\").dt.strftime(\"%A\")\n",
    "\n",
    "\n",
    "\n",
    "\n",
    "data1 = [go.Scatter(x=NoviembreFechaMedia.FECHA,y=NoviembreFechaMedia.TOTAL,mode ='lines+markers',\n",
    "                   name=\"Total Pasajeros\",\n",
    "                   text=NoviembreFechaMedia['WeekDay']),\n",
    "         go.Scatter(x=NoviembreFechaMedia.FECHA,y=NoviembreFechaMedia.Mean,mode ='lines',\n",
    "                   name=\"Media Noviembre\")]\n",
    "\n",
    "\n",
    "#data2 = go.Scatter(x=sdf.DESDE,y=sdf['MEAN'].apply(np.round),name=\"MEAN\")\n",
    "\n",
    "layout = dict(title = 'G20 Noviembre 2018',\n",
    "              xaxis = dict(title = 'Fecha'),\n",
    "              yaxis = dict(title = 'Cantidad de Pasajeros')\n",
    "              )\n",
    "\n",
    "fig = dict(data=data1,layout=layout)\n",
    "\n",
    "\n",
    "py.iplot(fig)\n"
   ]
  },
  {
   "cell_type": "markdown",
   "metadata": {},
   "source": [
    "Graficos para identificar el mes que mas tiene por dia y por hora"
   ]
  },
  {
   "cell_type": "code",
   "execution_count": 6,
   "metadata": {},
   "outputs": [],
   "source": [
    "Todaslineas = pd.read_csv(r'Todaslineas.csv', sep=\";\")\n",
    "Todaslineas['WeekDay'] = pd.to_datetime(pd.Series(Todaslineas['FECHA']), format=\"%Y/%m/%d\").dt.strftime(\"%A\")\n"
   ]
  },
  {
   "cell_type": "code",
   "execution_count": 10,
   "metadata": {},
   "outputs": [],
   "source": [
    "Totaleslineas=Todaslineas.groupby(['LINEA','Month','WeekDay'], as_index=False)['TOTAL'].sum()"
   ]
  },
  {
   "cell_type": "code",
   "execution_count": 16,
   "metadata": {},
   "outputs": [],
   "source": [
    "LineaA=Totaleslineas[Totaleslineas.LINEA=='LINEA_A']\n",
    "LineaB=Totaleslineas[Totaleslineas.LINEA=='LINEA_B']\n",
    "LineaC=Totaleslineas[Totaleslineas.LINEA=='LINEA_C']\n",
    "LineaD=Totaleslineas[Totaleslineas.LINEA=='LINEA_D']\n",
    "LineaE=Totaleslineas[Totaleslineas.LINEA=='LINEA_E']\n",
    "LineaH=Totaleslineas[Totaleslineas.LINEA=='LINEA_H']"
   ]
  },
  {
   "cell_type": "code",
   "execution_count": 38,
   "metadata": {},
   "outputs": [],
   "source": [
    "LineaA.TOTAL.nlargest(3)\n",
    "days = [\"Sunday\", \"Monday\", \"Tuesday\", \"Wednesday\", \"Thursday\", \"Friday\", \"Saturday\"]"
   ]
  },
  {
   "cell_type": "code",
   "execution_count": 44,
   "metadata": {
    "collapsed": true
   },
   "outputs": [
    {
     "name": "stderr",
     "output_type": "stream",
     "text": [
      "C:\\Users\\alejandro.m.gizzi\\AppData\\Local\\Continuum\\anaconda3\\lib\\site-packages\\ipykernel_launcher.py:1: SettingWithCopyWarning:\n",
      "\n",
      "\n",
      "A value is trying to be set on a copy of a slice from a DataFrame.\n",
      "Try using .loc[row_indexer,col_indexer] = value instead\n",
      "\n",
      "See the caveats in the documentation: http://pandas.pydata.org/pandas-docs/stable/indexing.html#indexing-view-versus-copy\n",
      "\n"
     ]
    }
   ],
   "source": [
    "LineaA['wdaynum']=LineaA['WeekDay'].apply(lambda x: 0 if 'Monday' in x else \n",
    "                                          1 if 'Tuesday' in x else \n",
    "                                          2 if 'Wednesday' in x else \n",
    "                                          3 if 'Thursday' in x else \n",
    "                                          4 if 'Friday' in x else \n",
    "                                          5 if 'Saturday' in x else \n",
    "                                          6 if 'Sunday' in x else False )\n",
    "LineaA['wdaynum'] = pd.Categorical(LineaA['wdaynum'],[0,1,2,3,4,5,6])\n",
    "totmes=LineaA.sort_values('wdaynum')"
   ]
  },
  {
   "cell_type": "code",
   "execution_count": 105,
   "metadata": {},
   "outputs": [],
   "source": [
    "meantots=Totaleslineas.groupby(['LINEA','Month'], as_index=False)['TOTAL'].mean()\n",
    "meantots=meantots[meantots.LINEA=='LINEA_A']"
   ]
  },
  {
   "cell_type": "code",
   "execution_count": 77,
   "metadata": {
    "collapsed": true
   },
   "outputs": [
    {
     "data": {
      "text/html": [
       "<iframe id=\"igraph\" scrolling=\"no\" style=\"border:none;\" seamless=\"seamless\" src=\"https://plot.ly/~alekido/361.embed\" height=\"525px\" width=\"100%\"></iframe>"
      ],
      "text/plain": [
       "<plotly.tools.PlotlyDisplay object>"
      ]
     },
     "execution_count": 77,
     "metadata": {},
     "output_type": "execute_result"
    }
   ],
   "source": [
    "#Totales dias agrupados por mes 2018\n",
    "\n",
    "\n",
    "trace0 = go.Bar(\n",
    "    x=totmes[totmes.Month==1].WeekDay,\n",
    "    y=totmes[totmes.Month==1].TOTAL,\n",
    "    name='Enero'\n",
    ")\n",
    "\n",
    "trace1 = go.Bar(\n",
    "    x=totmes[totmes.Month==2].WeekDay,\n",
    "    y=totmes[totmes.Month==2].TOTAL,\n",
    "    name='Febrero'\n",
    ")\n",
    "\n",
    "trace2 = go.Bar(\n",
    "    x=totmes[totmes.Month==3].WeekDay,\n",
    "    y=totmes[totmes.Month==3].TOTAL,\n",
    "    name='Marzo'\n",
    ")\n",
    "trace3 = go.Bar(\n",
    "    x=totmes[totmes.Month==4].WeekDay,\n",
    "    y=totmes[totmes.Month==4].TOTAL,\n",
    "    name='abril'\n",
    ")\n",
    "trace5 = go.Bar(\n",
    "    x=totmes[totmes.Month==5].WeekDay,\n",
    "    y=totmes[totmes.Month==5].TOTAL,\n",
    "    name='Mayo'\n",
    ")\n",
    "trace6 = go.Bar(\n",
    "    x=totmes[totmes.Month==6].WeekDay,\n",
    "    y=totmes[totmes.Month==6].TOTAL,\n",
    "    name='Junio'\n",
    ")\n",
    "trace7 = go.Bar(\n",
    "    x=totmes[totmes.Month==7].WeekDay,\n",
    "    y=totmes[totmes.Month==7].TOTAL,\n",
    "    name='Julio'\n",
    ")\n",
    "trace8 = go.Bar(\n",
    "    x=totmes[totmes.Month==8].WeekDay,\n",
    "    y=totmes[totmes.Month==8].TOTAL,\n",
    "    name='Agosto'\n",
    ")\n",
    "trace9 = go.Bar(\n",
    "    x=totmes[totmes.Month==9].WeekDay,\n",
    "    y=totmes[totmes.Month==9].TOTAL,\n",
    "    name='Septiembre'\n",
    ")\n",
    "trace10 = go.Bar(\n",
    "    x=totmes[totmes.Month==10].WeekDay,\n",
    "    y=totmes[totmes.Month==10].TOTAL,\n",
    "    name='Octubre'\n",
    ")\n",
    "trace11 = go.Bar(\n",
    "    x=totmes[totmes.Month==11].WeekDay,\n",
    "    y=totmes[totmes.Month==11].TOTAL,\n",
    "    name='Noviembre'\n",
    ")\n",
    "trace12 = go.Bar(\n",
    "    x=totmes[totmes.Month==12].WeekDay,\n",
    "    y=totmes[totmes.Month==12].TOTAL,\n",
    "    name='Diciembre'\n",
    ")\n",
    "\n",
    "\n",
    "\n",
    "data = [trace0,trace1,trace2,trace3,trace5,trace6,trace7,trace8,trace9,trace10,trace11,trace12]\n",
    "layout = dict(title = 'Totales Mes agrupados por Dia 2018',\n",
    "              xaxis = dict(title = 'Dias de la semana'),\n",
    "              yaxis = dict(title = 'Cantidad de Pasajeros')\n",
    "              )\n",
    "\n",
    "fig = go.Figure(data=data, layout=layout)\n",
    "py.iplot(fig)"
   ]
  },
  {
   "cell_type": "code",
   "execution_count": 106,
   "metadata": {},
   "outputs": [
    {
     "data": {
      "text/html": [
       "<iframe id=\"igraph\" scrolling=\"no\" style=\"border:none;\" seamless=\"seamless\" src=\"https://plot.ly/~alekido/385.embed\" height=\"525px\" width=\"100%\"></iframe>"
      ],
      "text/plain": [
       "<plotly.tools.PlotlyDisplay object>"
      ]
     },
     "execution_count": 106,
     "metadata": {},
     "output_type": "execute_result"
    }
   ],
   "source": [
    "#Totales Mes agrupados por Dia 2018\n",
    "trace0 = go.Bar(\n",
    "    x=totmes[totmes.WeekDay=='Monday'].Month,\n",
    "    y=totmes[totmes.WeekDay=='Monday'].TOTAL,\n",
    "    name='Monday'\n",
    ")\n",
    "\n",
    "trace1 = go.Bar(\n",
    "    x=totmes[totmes.WeekDay=='Tuesday'].Month,\n",
    "    y=totmes[totmes.WeekDay=='Tuesday'].TOTAL,\n",
    "    name='Tuesday'\n",
    ")\n",
    "\n",
    "trace2 = go.Bar(\n",
    "    x=totmes[totmes.WeekDay=='Wednesday'].Month,\n",
    "    y=totmes[totmes.WeekDay=='Wednesday'].TOTAL,\n",
    "    name='Wednesday'\n",
    ")\n",
    "\n",
    "trace3 = go.Bar(\n",
    "    x=totmes[totmes.WeekDay=='Thursday'].Month,\n",
    "    y=totmes[totmes.WeekDay=='Thursday'].TOTAL,\n",
    "    name='Thursday'\n",
    ")\n",
    "\n",
    "trace4 = go.Bar(\n",
    "    x=totmes[totmes.WeekDay=='Friday'].Month,\n",
    "    y=totmes[totmes.WeekDay=='Friday'].TOTAL,\n",
    "    name='Friday'\n",
    ")\n",
    "\n",
    "trace5 = go.Bar(\n",
    "    x=totmes[totmes.WeekDay=='Saturday'].Month,\n",
    "    y=totmes[totmes.WeekDay=='Saturday'].TOTAL,\n",
    "    name='Saturday'\n",
    ")\n",
    "\n",
    "trace6 = go.Bar(\n",
    "    x=totmes[totmes.WeekDay=='Sunday'].Month,\n",
    "    y=totmes[totmes.WeekDay=='Sunday'].TOTAL,\n",
    "    name='Sunday'\n",
    ")\n",
    "trace7 = go.Scatter(\n",
    "    x=meantots.Month,\n",
    "    y=meantots.TOTAL,\n",
    "    mode ='lines+markers',\n",
    "    name=\"Mean\",\n",
    "    marker=dict(\n",
    "     color='rgba(150, 200, 200, .8)')\n",
    ")\n",
    "\n",
    "data = [trace0,trace1,trace2,trace3,trace4,trace5,trace6,trace7]\n",
    "layout = dict(title = 'Totales Dia agrupados por Mes 2018',\n",
    "              xaxis = dict(title = 'Meses',dtick=1),\n",
    "              yaxis = dict(title = 'Cantidad de Pasajeros')\n",
    "              )\n",
    "\n",
    "fig = go.Figure(data=data, layout=layout)\n",
    "py.iplot(fig)"
   ]
  },
  {
   "cell_type": "code",
   "execution_count": 66,
   "metadata": {},
   "outputs": [],
   "source": [
    "totmes=Todaslineas.groupby(['LINEA','Month'], as_index=False)['TOTAL'].sum()"
   ]
  },
  {
   "cell_type": "code",
   "execution_count": 75,
   "metadata": {
    "collapsed": true
   },
   "outputs": [
    {
     "data": {
      "text/html": [
       "<iframe id=\"igraph\" scrolling=\"no\" style=\"border:none;\" seamless=\"seamless\" src=\"https://plot.ly/~alekido/359.embed\" height=\"525px\" width=\"100%\"></iframe>"
      ],
      "text/plain": [
       "<plotly.tools.PlotlyDisplay object>"
      ]
     },
     "execution_count": 75,
     "metadata": {},
     "output_type": "execute_result"
    }
   ],
   "source": [
    "#Totales por linea agrupados por mes 2018\n",
    "trace0 = go.Bar(\n",
    "    x=totmes[totmes.Month==1].LINEA,\n",
    "    y=totmes[totmes.Month==1].TOTAL,\n",
    "    name='Enero'\n",
    ")\n",
    "\n",
    "trace1 = go.Bar(\n",
    "    x=totmes[totmes.Month==2].LINEA,\n",
    "    y=totmes[totmes.Month==2].TOTAL,\n",
    "    name='Febrero'\n",
    ")\n",
    "\n",
    "trace2 = go.Bar(\n",
    "    x=totmes[totmes.Month==3].LINEA,\n",
    "    y=totmes[totmes.Month==3].TOTAL,\n",
    "    name='Marzo'\n",
    ")\n",
    "trace3 = go.Bar(\n",
    "    x=totmes[totmes.Month==4].LINEA,\n",
    "    y=totmes[totmes.Month==4].TOTAL,\n",
    "    name='abril'\n",
    ")\n",
    "trace5 = go.Bar(\n",
    "    x=totmes[totmes.Month==5].LINEA,\n",
    "    y=totmes[totmes.Month==5].TOTAL,\n",
    "    name='Mayo'\n",
    ")\n",
    "trace6 = go.Bar(\n",
    "    x=totmes[totmes.Month==6].LINEA,\n",
    "    y=totmes[totmes.Month==6].TOTAL,\n",
    "    name='Junio'\n",
    ")\n",
    "trace7 = go.Bar(\n",
    "    x=totmes[totmes.Month==7].LINEA,\n",
    "    y=totmes[totmes.Month==7].TOTAL,\n",
    "    name='Julio'\n",
    ")\n",
    "trace8 = go.Bar(\n",
    "    x=totmes[totmes.Month==8].LINEA,\n",
    "    y=totmes[totmes.Month==8].TOTAL,\n",
    "    name='Agosto'\n",
    ")\n",
    "trace9 = go.Bar(\n",
    "    x=totmes[totmes.Month==9].LINEA,\n",
    "    y=totmes[totmes.Month==9].TOTAL,\n",
    "    name='Septiembre'\n",
    ")\n",
    "trace10 = go.Bar(\n",
    "    x=totmes[totmes.Month==10].LINEA,\n",
    "    y=totmes[totmes.Month==10].TOTAL,\n",
    "    name='Octubre'\n",
    ")\n",
    "trace11 = go.Bar(\n",
    "    x=totmes[totmes.Month==11].LINEA,\n",
    "    y=totmes[totmes.Month==11].TOTAL,\n",
    "    name='Noviembre'\n",
    ")\n",
    "trace12 = go.Bar(\n",
    "    x=totmes[totmes.Month==12].LINEA,\n",
    "    y=totmes[totmes.Month==12].TOTAL,\n",
    "    name='Diciembre'\n",
    ")\n",
    "\n",
    "\n",
    "\n",
    "data = [trace0,trace1,trace2,trace3,trace5,trace6,trace7,trace8,trace9,trace10,trace11,trace12]\n",
    "layout = dict(title = 'Totales Mes agrupados por Linea 2018',\n",
    "              xaxis = dict(title = 'Lineas'),\n",
    "              yaxis = dict(title = 'Cantidad de Pasajeros')\n",
    "              )\n",
    "\n",
    "fig = go.Figure(data=data, layout=layout)\n",
    "py.iplot(fig)"
   ]
  },
  {
   "cell_type": "code",
   "execution_count": 74,
   "metadata": {
    "collapsed": true
   },
   "outputs": [
    {
     "data": {
      "text/html": [
       "<iframe id=\"igraph\" scrolling=\"no\" style=\"border:none;\" seamless=\"seamless\" src=\"https://plot.ly/~alekido/357.embed\" height=\"525px\" width=\"100%\"></iframe>"
      ],
      "text/plain": [
       "<plotly.tools.PlotlyDisplay object>"
      ]
     },
     "execution_count": 74,
     "metadata": {},
     "output_type": "execute_result"
    }
   ],
   "source": [
    "\n",
    "#Totales Linea agrupados por Mes 2018\n",
    "trace0 = go.Bar(\n",
    "    x=totmes[totmes.LINEA=='LINEA_A'].Month,\n",
    "    y=totmes[totmes.LINEA=='LINEA_A'].TOTAL,\n",
    "    name='LINEA_A'\n",
    ")\n",
    "\n",
    "trace1 = go.Bar(\n",
    "    x=totmes[totmes.LINEA=='LINEA_B'].Month,\n",
    "    y=totmes[totmes.LINEA=='LINEA_B'].TOTAL,\n",
    "    name='LINEA_B'\n",
    ")\n",
    "\n",
    "trace2 = go.Bar(\n",
    "    x=totmes[totmes.LINEA=='LINEA_C'].Month,\n",
    "    y=totmes[totmes.LINEA=='LINEA_C'].TOTAL,\n",
    "    name='LINEA_C'\n",
    ")\n",
    "\n",
    "trace3 = go.Bar(\n",
    "    x=totmes[totmes.LINEA=='LINEA_D'].Month,\n",
    "    y=totmes[totmes.LINEA=='LINEA_D'].TOTAL,\n",
    "    name='LINEA_D'\n",
    ")\n",
    "\n",
    "trace4 = go.Bar(\n",
    "    x=totmes[totmes.LINEA=='LINEA_E'].Month,\n",
    "    y=totmes[totmes.LINEA=='LINEA_E'].TOTAL,\n",
    "    name='LINEA_E'\n",
    ")\n",
    "\n",
    "trace5 = go.Bar(\n",
    "    x=totmes[totmes.LINEA=='LINEA_H'].Month,\n",
    "    y=totmes[totmes.LINEA=='LINEA_H'].TOTAL,\n",
    "    name='LINEA_H'\n",
    ")\n",
    "\n",
    "\n",
    "data = [trace0,trace1,trace2,trace3,trace4,trace5]\n",
    "layout = dict(title = 'Totales Linea agrupados por Mes 2018',\n",
    "              xaxis = dict(title = 'Meses',dtick=1),\n",
    "              yaxis = dict(title = 'Cantidad de Pasajeros')\n",
    "              )\n",
    "\n",
    "fig = go.Figure(data=data, layout=layout)\n",
    "py.iplot(fig)"
   ]
  },
  {
   "cell_type": "code",
   "execution_count": 111,
   "metadata": {},
   "outputs": [
    {
     "data": {
      "text/html": [
       "<iframe id=\"igraph\" scrolling=\"no\" style=\"border:none;\" seamless=\"seamless\" src=\"https://plot.ly/~alekido/393.embed\" height=\"525px\" width=\"100%\"></iframe>"
      ],
      "text/plain": [
       "<plotly.tools.PlotlyDisplay object>"
      ]
     },
     "execution_count": 111,
     "metadata": {},
     "output_type": "execute_result"
    }
   ],
   "source": [
    "totmes = LineaH\n",
    "meantots=Totaleslineas.groupby(['LINEA','Month'], as_index=False)['TOTAL'].mean()\n",
    "meantots=meantots[meantots.LINEA=='LINEA_H']\n",
    "\n",
    "#Totales Mes agrupados por Dia 2018\n",
    "trace0 = go.Bar(\n",
    "    x=totmes[totmes.WeekDay=='Monday'].Month,\n",
    "    y=totmes[totmes.WeekDay=='Monday'].TOTAL,\n",
    "    name='Monday'\n",
    ")\n",
    "\n",
    "trace1 = go.Bar(\n",
    "    x=totmes[totmes.WeekDay=='Tuesday'].Month,\n",
    "    y=totmes[totmes.WeekDay=='Tuesday'].TOTAL,\n",
    "    name='Tuesday'\n",
    ")\n",
    "\n",
    "trace2 = go.Bar(\n",
    "    x=totmes[totmes.WeekDay=='Wednesday'].Month,\n",
    "    y=totmes[totmes.WeekDay=='Wednesday'].TOTAL,\n",
    "    name='Wednesday'\n",
    ")\n",
    "\n",
    "trace3 = go.Bar(\n",
    "    x=totmes[totmes.WeekDay=='Thursday'].Month,\n",
    "    y=totmes[totmes.WeekDay=='Thursday'].TOTAL,\n",
    "    name='Thursday'\n",
    ")\n",
    "\n",
    "trace4 = go.Bar(\n",
    "    x=totmes[totmes.WeekDay=='Friday'].Month,\n",
    "    y=totmes[totmes.WeekDay=='Friday'].TOTAL,\n",
    "    name='Friday'\n",
    ")\n",
    "\n",
    "trace5 = go.Bar(\n",
    "    x=totmes[totmes.WeekDay=='Saturday'].Month,\n",
    "    y=totmes[totmes.WeekDay=='Saturday'].TOTAL,\n",
    "    name='Saturday'\n",
    ")\n",
    "\n",
    "trace6 = go.Bar(\n",
    "    x=totmes[totmes.WeekDay=='Sunday'].Month,\n",
    "    y=totmes[totmes.WeekDay=='Sunday'].TOTAL,\n",
    "    name='Sunday'\n",
    ")\n",
    "trace7 = go.Scatter(\n",
    "    x=meantots.Month,\n",
    "    y=meantots.TOTAL,\n",
    "    mode ='lines+markers',\n",
    "    name=\"Mean\",\n",
    "    marker=dict(\n",
    "     color='rgba(150, 200, 200, .8)')\n",
    ")\n",
    "\n",
    "data = [trace0,trace1,trace2,trace3,trace4,trace5,trace6,trace7]\n",
    "layout = dict(title = 'Totales Dia agrupados por Mes 2018',\n",
    "              xaxis = dict(title = 'Meses',dtick=1),\n",
    "              yaxis = dict(title = 'Cantidad de Pasajeros')\n",
    "              )\n",
    "\n",
    "fig = go.Figure(data=data, layout=layout)\n",
    "py.iplot(fig)"
   ]
  }
 ],
 "metadata": {
  "kernelspec": {
   "display_name": "Python 3",
   "language": "python",
   "name": "python3"
  },
  "language_info": {
   "codemirror_mode": {
    "name": "ipython",
    "version": 3
   },
   "file_extension": ".py",
   "mimetype": "text/x-python",
   "name": "python",
   "nbconvert_exporter": "python",
   "pygments_lexer": "ipython3",
   "version": "3.7.1"
  }
 },
 "nbformat": 4,
 "nbformat_minor": 2
}
