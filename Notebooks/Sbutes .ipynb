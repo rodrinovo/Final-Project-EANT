{
 "cells": [
  {
   "cell_type": "code",
   "execution_count": 2,
   "metadata": {},
   "outputs": [],
   "source": [
    "import pandas as pd\n",
    "import datetime\n",
    "import matplotlib.pyplot as plt\n",
    "import plotly.plotly as ply\n",
    "import plotly.graph_objs as go\n",
    "from datetime import datetime"
   ]
  },
  {
   "cell_type": "code",
   "execution_count": null,
   "metadata": {
    "scrolled": true
   },
   "outputs": [],
   "source": [
    "mol_2016 = pd.read_csv(r'C:\\Users\\alejandro.m.gizzi\\Documents\\Mine\\Mol 2016.csv', sep=\";\")\n",
    "mol_2017 = pd.read_csv(r'C:\\Users\\alejandro.m.gizzi\\Documents\\Mine\\Mol 2017.csv', sep=\";\")\n",
    "mol_2018 = pd.read_csv(r'C:\\Users\\alejandro.m.gizzi\\Documents\\Mine\\Mol 2018.csv', sep=\",\")"
   ]
  },
  {
   "cell_type": "code",
   "execution_count": null,
   "metadata": {},
   "outputs": [],
   "source": [
    "#DF formatting and consolidation\n",
    "\n",
    "pd.set_option('float_format', '{:f}'.format)\n",
    "mol_2017 = mol_2017.drop(['ID'],axis=1)\n",
    "mol_2018.columns = mol_2017.columns\n",
    "\n",
    "\n",
    "mol_2016['FECHA'] = pd.to_datetime(pd.Series(mol_2016['FECHA']), format=\"%d/%m/%Y\")\n",
    "mol_2017['FECHA'] = pd.to_datetime(pd.Series(mol_2017['FECHA']), format=\"%d/%m/%Y\")\n",
    "mol_2018['FECHA'] = pd.to_datetime(mol_2018['FECHA'])\n",
    "\n",
    "\n",
    "mol_2016['Month'] = pd.DatetimeIndex(mol_2016['FECHA']).month\n",
    "mol_2016['Year'] = pd.DatetimeIndex(mol_2016['FECHA']).year\n",
    "\n",
    "mol_2017['Month'] = pd.DatetimeIndex(mol_2017['FECHA']).month\n",
    "mol_2017['Year'] = pd.DatetimeIndex(mol_2017['FECHA']).year\n",
    "\n",
    "mol_2018['Month'] = pd.DatetimeIndex(mol_2018['FECHA']).month\n",
    "mol_2018['Year'] = pd.DatetimeIndex(mol_2018['FECHA']).year\n",
    "\n",
    "\n",
    "ALLMOL = mol_2016.append(mol_2017, ignore_index=False)\n",
    "ALLMOL = ALLMOL.append(mol_2018, ignore_index=False)\n",
    "\n",
    "#creates column with weekday name\n",
    "#https://docs.python.org/3/library/datetime.html#strftime-strptime-behavior\n",
    "#https://webcache.googleusercontent.com/search?q=cache:GywFzb4hhjsJ:https://stackoverflow.com/questions/8380389/how-to-get-day-name-in-datetime-in-python+&cd=1&hl=es-419&ct=clnk&gl=ar\n",
    "ALLMOL['WeekDay'] = ALLMOL['FECHA'].dt.strftime(\"%A\")\n",
    "\n",
    "#replace all missing values in total\n",
    "#https://towardsdatascience.com/data-cleaning-with-python-and-pandas-detecting-missing-values-3e9c6ebcf78b\n",
    "#ALLMOL.isnull().values.any()\n",
    "ALLMOL['TOTAL'].fillna(0, inplace=True)\n",
    "ALLMOL= ALLMOL[ALLMOL['LINEA'] !='TALLER/PRUEBAS']\n",
    "ALLMOL.dropna(how='any', inplace=True)\n",
    "\n",
    "ALLMOL.to_csv(\"ALLMOL.csv\", sep=';', encoding='utf-8')\n"
   ]
  },
  {
   "cell_type": "code",
   "execution_count": null,
   "metadata": {},
   "outputs": [],
   "source": [
    "#-------------------------trash-----------------------------------------------------|\n",
    "#mol_2018.rename(columns={'fecha': 'FECHA'}, inplace=True)\n",
    "#mol_2018.rename(columns={'total': 'TOTAL'}, inplace=True)\n",
    "#mol_2018['fecha'] = pd.to_datetime(pd.Series(mol_2018['fecha']), format=\"%d/%m/%Y\")|\n",
    "#mol_2016['Mes'] = mol_2016['PERIODO']                                              |\n",
    "#mol_2016['Mes'] = mol_2016['FECHA'].Month                                          |\n",
    "#mol_2016['Mes'] = mol_2016['FECHA'].Year                                           |\n",
    "#df['Mes'] = df['Mes'].str[-2:]                                                     |\n",
    "#mol_2016_Totpagos = mol_2016.set_index('Month', inplace=False)                     |\n",
    "#mol_2016_Totpagos = mol_2016.groupby(level=0)['TOTAL'].sum()                       |\n",
    "#mol_2016_Totpagos                                                                  |\n",
    "#-------------------------trash-----------------------------------------------------|\n",
    "\n"
   ]
  },
  {
   "cell_type": "code",
   "execution_count": null,
   "metadata": {},
   "outputs": [],
   "source": [
    "#DF totals by period\n",
    "TotPag16 = mol_2016\n",
    "TotPag16.set_index([\"Year\",\"Month\"], inplace=True)\n",
    "TotPag16 = TotPag16.sum(level=[\"Year\",\"Month\"])\n",
    "mol_2016 = mol_2016.reset_index()\n",
    "\n",
    "TotPag17 = mol_2017\n",
    "TotPag17.set_index([\"Year\",\"Month\"], inplace=True)\n",
    "TotPag17 = TotPag17.sum(level=[\"Year\",\"Month\"])\n",
    "mol_2017 = mol_2017.reset_index()\n",
    "\n",
    "TotPag18 = mol_2018\n",
    "TotPag18.set_index([\"Year\",\"Month\"], inplace=True)\n",
    "TotPag18 = TotPag18.sum(level=[\"Year\",\"Month\"])\n",
    "mol_2018 = mol_2018.reset_index()\n",
    "\n",
    "TotPaghist = TotPag16.append(TotPag17, ignore_index=False)\n",
    "TotPaghist = TotPaghist.append(TotPag18, ignore_index=False)\n",
    "TotPaghist = TotPaghist.drop(['PERIODO','PAX_PAGOS','PAX_PASES_PAGOS','PAX_FRANQ'],axis=1)\n"
   ]
  },
  {
   "cell_type": "code",
   "execution_count": null,
   "metadata": {},
   "outputs": [],
   "source": [
    "#line plot\n",
    "#fig, ax = plt.subplots(figsize=(50,5))\n",
    "#ax.plot(TotPaghist['Year'].map(str) + \" \" + TotPaghist['Month'].map(str), TotPaghist['TOTAL'], color='r')\n",
    "#plt.show()\n",
    "\n",
    "\n",
    "#Scatter plot\n",
    "#fig, ax = plt.subplots(figsize=(50,5))\n",
    "#ax.scatter(TotPaghist['Year'].map(str) + \" \" + TotPaghist['Month'].map(str), TotPaghist['TOTAL'], edgecolors='r')\n",
    "#plt.show()\n",
    "\n",
    "\n",
    "#plot\n",
    "#fig, ax = plt.subplots(figsize=(50,5))\n",
    "#ax.plot_date(ALLMOL['FECHA'], ALLMOL['TOTAL'], color='r')\n",
    "#plt.show()\n",
    "\n",
    "\n",
    "#interactive plot kills ram\n",
    "#data = [go.Scatter(x=ALLMOL['FECHA'], y=ALLMOL['TOTAL'])]\n",
    "\n",
    "#ply.iplot(data, filename = 'time-series-simple')"
   ]
  },
  {
   "cell_type": "code",
   "execution_count": null,
   "metadata": {},
   "outputs": [],
   "source": [
    "#DF to see std and mean for each day\n",
    "\n",
    "#https://webcache.googleusercontent.com/search?q=cache:iBCzF1giI64J:https://stackoverflow.com/questions/30482071/how-to-calculate-mean-values-grouped-on-another-column-in-pandas+&cd=1&hl=es-419&ct=clnk&gl=ar\n",
    "WeekdayTotalmean = ALLMOL.groupby('WeekDay', as_index=False)['TOTAL'].mean()\n",
    "\n",
    "#https://webcache.googleusercontent.com/search?q=cache:cHr8bCdXsYUJ:https://stackoverflow.com/questions/20350863/pandas-dataframe-groupby-std+&cd=1&hl=es-419&ct=clnk&gl=ar\n",
    "WeekdayTotalstd = ALLMOL.groupby('WeekDay')['TOTAL'].std()\n",
    "\n",
    "#https://webcache.googleusercontent.com/search?q=cache:oEh9T7lHF9EJ:https://stackoverflow.com/questions/37968785/merging-two-dataframes+&cd=1&hl=es-419&ct=clnk&gl=ar\n",
    "WDTmeanvar = pd.merge(WeekdayTotalmean,WeekdayTotalstd.to_frame(),how='left',on=['WeekDay'])\n",
    "WDTmeanvar.rename(columns={'TOTAL_x': 'MEAN','TOTAL_y': 'STD'}, inplace=True)\n",
    "WDTmeanvar['+/- Dif'] =  abs(WDTmeanvar['MEAN'] - WDTmeanvar['STD']) \n",
    "WDTmeanvar"
   ]
  },
  {
   "cell_type": "code",
   "execution_count": 3,
   "metadata": {},
   "outputs": [
    {
     "data": {
      "text/plain": [
       "(35482585, 15)"
      ]
     },
     "execution_count": 3,
     "metadata": {},
     "output_type": "execute_result"
    }
   ],
   "source": [
    "ALLMOL = pd.read_csv(r'C:\\Users\\alejandro.m.gizzi\\Documents\\Mine\\ALLMOL.csv', sep=\";\")\n"
   ]
  },
  {
   "cell_type": "code",
   "execution_count": 6,
   "metadata": {},
   "outputs": [
    {
     "data": {
      "text/plain": [
       "array(['LINEA_A', 'LINEA_B', 'LINEA_C', 'LINEA_D', 'LINEA_E', 'LINEA_H',\n",
       "       'TALLER/PRUEBAS', 'LineaA', 'LineaB', 'LineaC', 'LineaD', 'LineaE',\n",
       "       'LineaH'], dtype=object)"
      ]
     },
     "execution_count": 6,
     "metadata": {},
     "output_type": "execute_result"
    }
   ],
   "source": []
  },
  {
   "cell_type": "code",
   "execution_count": 4,
   "metadata": {},
   "outputs": [],
   "source": []
  },
  {
   "cell_type": "code",
   "execution_count": 5,
   "metadata": {},
   "outputs": [
    {
     "data": {
      "text/plain": [
       "(35482529, 15)"
      ]
     },
     "execution_count": 5,
     "metadata": {},
     "output_type": "execute_result"
    }
   ],
   "source": []
  },
  {
   "cell_type": "code",
   "execution_count": null,
   "metadata": {},
   "outputs": [],
   "source": []
  }
 ],
 "metadata": {
  "kernelspec": {
   "display_name": "Python 3",
   "language": "python",
   "name": "python3"
  },
  "language_info": {
   "codemirror_mode": {
    "name": "ipython",
    "version": 3
   },
   "file_extension": ".py",
   "mimetype": "text/x-python",
   "name": "python",
   "nbconvert_exporter": "python",
   "pygments_lexer": "ipython3",
   "version": "3.7.1"
  }
 },
 "nbformat": 4,
 "nbformat_minor": 2
}
