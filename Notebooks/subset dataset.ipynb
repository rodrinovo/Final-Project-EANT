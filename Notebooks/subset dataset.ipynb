{
 "cells": [
  {
   "cell_type": "markdown",
   "metadata": {},
   "source": [
    "Guia de como ejecutar:\n",
    "1-Ejecutar los imports primero\n",
    "2-Todo lo que esta antes de \"Subset de todas las lineas para los graficos de presentacion\" es para formatear el dataset del gobierno y separar la linea D\n",
    "3-Todo lo que esta despues de \"Subset de todas las lineas para los graficos de presentacion\" es para sacar los graficos para la presentacion\n",
    "4-Para ejecutar la parte de los issues van a necesitar el dataset \"Twittermetrovias.csv\" que esta subido en git\n",
    "5-Para los graficos de plotly fijense en este link para configurar, yo en windows no pude encontrar el file que es necesario modificar\n",
    "https://plot.ly/python/getting-started/"
   ]
  },
  {
   "cell_type": "code",
   "execution_count": 3,
   "metadata": {},
   "outputs": [],
   "source": [
    "import pandas as pd\n",
    "import datetime\n",
    "import matplotlib.pyplot as plt\n",
    "import plotly.plotly as ply\n",
    "import plotly.graph_objs as go\n",
    "from datetime import datetime\n",
    "import numpy as np\n",
    "pd.set_option('float_format', '{:,f}'.format)\n",
    "\n",
    "import sys\n",
    "import plotly \n",
    "import plotly.plotly as py\n",
    "\n",
    "\n"
   ]
  },
  {
   "cell_type": "markdown",
   "metadata": {},
   "source": [
    "Levantar el archivo de molinetes 2018, formatearlo y guardar solo la linea D ( se puede elegir que linea guardar)"
   ]
  },
  {
   "cell_type": "code",
   "execution_count": null,
   "metadata": {},
   "outputs": [],
   "source": [
    "\n",
    "mol_2018 = pd.read_csv(r'C:\\Users\\alejandro.m.gizzi\\Documents\\Mine\\Mol 2018.csv', sep=\",\")\n",
    "\n",
    "mol_2018.columns = map(str.upper, mol_2018.columns)\n",
    "mol_2018['FECHA'] = pd.to_datetime(mol_2018['FECHA'])\n",
    "mol_2018['Month'] = pd.DatetimeIndex(mol_2018['FECHA']).month\n",
    "mol_2018['Year'] = pd.DatetimeIndex(mol_2018['FECHA']).year\n",
    "\n",
    "mol_2018.drop(['PAX_PAGOS'],axis=1,inplace=True)\n",
    "mol_2018.drop(['PAX_PASES_PAGOS'],axis=1,inplace=True)\n",
    "mol_2018.drop(['PAX_FRANQ'],axis=1,inplace=True)\n",
    "\n",
    "mol_2018['TOTAL'].fillna(0, inplace=True)\n",
    "mol_2018.dropna(how='any', inplace=True)\n",
    "mol_2018=mol_2018[mol_2018['MOLINETE'].apply(lambda x: \"LINEA_D\" in x )]\n",
    "\n",
    "\n",
    "mol_2018.to_csv(\"Linea_D_sintwitt.csv\", sep=';', encoding='utf-8')"
   ]
  },
  {
   "cell_type": "markdown",
   "metadata": {},
   "source": [
    "Abrir el csv una vez guardado (si se corre antes el codigo de arriba y queda el df en la variable mol_2018 usar ese en vez de LIND, obviamente reemplazando LIND por mol_2018), formatearlo y juntar el del twitter"
   ]
  },
  {
   "cell_type": "code",
   "execution_count": null,
   "metadata": {},
   "outputs": [],
   "source": [
    "LIND = pd.read_csv(r'C:\\Users\\alejandro.m.gizzi\\Documents\\Mine\\Linea_D_sintwitt.csv', sep=\";\")\n",
    "\n",
    "LIND['FECHA'] = pd.to_datetime(pd.Series(LIND['FECHA']), format=\"%Y/%m/%d\")\n",
    "LIND['DESDE'] =pd.to_datetime(pd.Series(LIND['DESDE']), format='%H:%M:%S')\n",
    "\n",
    "#esto es para filtrar\n",
    "#LIND[LIND['DESDE'] > datetime.strptime(\"08:00:00\",'%X')]\n",
    "\n",
    "\n",
    "TWD = pd.read_csv(r'C:\\Users\\alejandro.m.gizzi\\Documents\\Mine\\TweetD.csv', sep=\";\")\n",
    "\n",
    "TWD['DATE'] = pd.to_datetime(pd.Series(TWD['DATE']), format=\"%Y/%m/%d\")\n",
    "TWD['TIME'] =pd.to_datetime(pd.Series(TWD['TIME']), format='%H:%M:%S')\n",
    "\n",
    "TWD.rename(columns={'DATE': 'FECHA'}, inplace=True)\n",
    "\n",
    "#TWD.drop(['Unnamed: 0'],axis=1,inplace=True)\n",
    "TWD.drop(['Linea D'],axis=1,inplace=True)\n",
    "TWD.drop(['Demora'],axis=1,inplace=True)\n",
    "TWD.drop(['Sinterrumpido'],axis=1,inplace=True)\n",
    "TWD.drop(['Snormal'],axis=1,inplace=True)\n",
    "TWD.drop(['Slimitado'],axis=1,inplace=True)\n",
    "TWD.drop(['SdemFG'],axis=1,inplace=True)\n",
    "\n",
    "TWD['Issuetype']=TWD['TEXT'].apply(lambda x: 'demora' if 'demora' in x else 'interrumpido' if 'interrumpido' in x else 'Normal' if 'frecuencia normal' in x else 'limitado' if 'limitado' in x else 'Normal')\n",
    "\n",
    "\n",
    "def standdate(timestr):\n",
    "    if (timestr.minute < 15 and timestr.minute >= 00):\n",
    "        ab =(str('{:02d}'.format(timestr.hour)) + \":00:00\")\n",
    "    elif (timestr.minute >= 15 and timestr.minute < 30):\n",
    "        ab =(str('{:02d}'.format(timestr.hour)) + \":15:00\")\n",
    "    elif (timestr.minute >= 30):\n",
    "        ab = (str('{:02d}'.format(timestr.hour)) + \":30:00\")\n",
    "\n",
    "    return ab\n",
    "\n",
    "\n",
    "TWD['DESDE'] = TWD['TIME'].map(standdate)\n",
    "TWD['DESDE'] =pd.to_datetime(pd.Series(TWD['DESDE']), format='%H:%M:%S')\n",
    "\n",
    "LINDTWD = pd.merge(LIND,TWD,how='left',on=['FECHA','DESDE'])\n",
    "\n",
    "LINDTWD['WeekDay'] = LINDTWD['FECHA'].dt.strftime(\"%A\")\n",
    "\n",
    "#agrega el mean\n",
    "BMOLmean= LINDTWD.groupby(['ESTACION','WeekDay','DESDE'], as_index=False)['TOTAL'].mean()\n",
    "BMOLmean.rename(columns={'TOTAL': 'Mean'}, inplace=True)\n",
    "LINDTWDmean = pd.merge(LINDTWD,BMOLmean,how='left',on=['ESTACION','WeekDay','DESDE'])\n",
    "\n",
    "\n",
    "LINDTWDmean.to_csv(\"LineaDcontwit.csv\", sep=';', encoding='utf-8')\n",
    "\n"
   ]
  },
  {
   "cell_type": "markdown",
   "metadata": {},
   "source": [
    "GRAFICOS (levantar LineaDcontwit.csv)"
   ]
  },
  {
   "cell_type": "code",
   "execution_count": 13,
   "metadata": {},
   "outputs": [],
   "source": [
    "import numpy as np\n",
    "import matplotlib.pyplot as plt\n",
    "import matplotlib.dates as mdates\n",
    "import matplotlib.cbook as cbook\n",
    "\n",
    "from matplotlib.ticker import MaxNLocator\n",
    "from collections import namedtuple\n",
    "\n"
   ]
  },
  {
   "cell_type": "markdown",
   "metadata": {},
   "source": [
    "Total por mes"
   ]
  },
  {
   "cell_type": "code",
   "execution_count": null,
   "metadata": {},
   "outputs": [],
   "source": [
    "TotPag18 = LINDTWDmean\n",
    "TotPag18.set_index([\"Month\"], inplace=True)\n",
    "TotPag18 = TotPag18.sum(level=[\"Month\"])\n",
    "\n",
    "TotPag18 = TotPag18.reset_index()\n",
    "\n",
    "\n",
    "fig, ax = plt.subplots(figsize=(25,10))\n",
    "ax.plot(TotPag18['Month'], TotPag18['TOTAL'], color='r')\n",
    "plt.show()\n"
   ]
  },
  {
   "cell_type": "markdown",
   "metadata": {},
   "source": [
    "Por dia"
   ]
  },
  {
   "cell_type": "code",
   "execution_count": null,
   "metadata": {},
   "outputs": [],
   "source": [
    "LINDTWDmean = LINDTWDmean.reset_index()\n",
    "TotPag18 = LINDTWDmean\n",
    "TotPag18.set_index([\"FECHA\"], inplace=True)\n",
    "TotPag18 = TotPag18.sum(level=[\"FECHA\"])\n",
    "\n",
    "TotPag18 = TotPag18.reset_index()\n",
    "\n",
    "TotPag18= TotPag18.sort_values(by='FECHA')\n",
    "\n",
    "\n",
    "#years = mdates.YearLocator()   # every year\n",
    "#months = mdates.MonthLocator()  # every month\n",
    "#yearsFmt = mdates.DateFormatter('%Y')\n",
    "\n",
    "fig, ax = plt.subplots(figsize=(50,5))\n",
    "ax.plot(TotPag18['FECHA'], TotPag18['TOTAL'])\n",
    "\n",
    "\n",
    "ax.grid(True)\n",
    "\n",
    "# rotates and right aligns the x labels, and moves the bottom of the\n",
    "# axes up to make room for them\n",
    "fig.autofmt_xdate()\n",
    "\n",
    "plt.show()"
   ]
  },
  {
   "cell_type": "markdown",
   "metadata": {},
   "source": [
    "Por Estacion"
   ]
  },
  {
   "cell_type": "code",
   "execution_count": null,
   "metadata": {},
   "outputs": [],
   "source": [
    "LINDTWDmean = LINDTWDmean.reset_index()\n",
    "TotPag18 = LINDTWDmean\n",
    "TotPag18.set_index([\"ESTACION\"], inplace=True)\n",
    "TotPag18 = TotPag18.sum(level=[\"ESTACION\"])\n",
    "\n",
    "TotPag18 = TotPag18.reset_index()\n",
    "\n",
    "#TotPag18= TotPag18.sort_values(by='FECHA')\n",
    "\n"
   ]
  },
  {
   "cell_type": "markdown",
   "metadata": {},
   "source": [
    "GRAFICO PIE"
   ]
  },
  {
   "cell_type": "code",
   "execution_count": null,
   "metadata": {},
   "outputs": [],
   "source": [
    "# Pie chart solo \n",
    "labels = TotPag18.ESTACION\n",
    "sizes = TotPag18.TOTAL\n",
    "#explode = (0, 0.1, 0, 0)  # only \"explode\" the 2nd slice (i.e. 'Hogs')\n",
    "\n",
    "\n",
    "\n",
    "fig, axs = plt.subplots(figsize=(30,10))\n",
    "axs.pie(sizes,  labels=labels, autopct='%1.1f%%',shadow=True, startangle=90)                     \n",
    "\n",
    "\n",
    "#fig.tight_layout()\n",
    "\n",
    "plt.show()\n",
    "\n",
    "                            \n",
    "                 "
   ]
  },
  {
   "cell_type": "markdown",
   "metadata": {},
   "source": [
    "GRAFICO DE BARRAS"
   ]
  },
  {
   "cell_type": "code",
   "execution_count": null,
   "metadata": {},
   "outputs": [],
   "source": [
    "#BAR SOLO\n",
    "#https://webcache.googleusercontent.com/search?q=cache:WY7G0y4OxQ8J:https://stackoverflow.com/questions/43560801/display-y-axis-value-horizontal-line-drawn-in-bar-chart+&cd=4&hl=es-419&ct=clnk&gl=ar\n",
    "import matplotlib.colors\n",
    "fig, ax = plt.subplots(figsize=(25,10))\n",
    "\n",
    "index = np.arange(TotPag18.ESTACION.count())\n",
    "\n",
    "bar_width = 0.35\n",
    "opacity = 0.4\n",
    "\n",
    "norm = matplotlib.colors.Normalize(30e3, 60e3)\n",
    "ax.bar(index,TotPag18.TOTAL, bar_width,alpha=opacity,\n",
    "       color=np.random.rand ( 256,3),\n",
    "       label='ESTACION')\n",
    "\n",
    "\n",
    "#rects1 = ax.bar(index, TotPag18.TOTAL, bar_width,\n",
    "#                alpha=opacity, color='b',\n",
    "#                label='ESTACION')\n",
    "\n",
    "#rects2 = ax.bar(index + bar_width, means_women, bar_width,\n",
    "#                alpha=opacity, color='r',\n",
    "#                yerr=std_women, error_kw=error_config,\n",
    "#                label='Women')\n",
    "\n",
    "#ax.set_xlabel('Group')\n",
    "#ax.set_ylabel('Scores')\n",
    "#ax.set_title('Scores by group and gender')\n",
    "ax.axhline(TotPag18.TOTAL.mean(), color=\"gray\")\n",
    "ax.grid(True)\n",
    "ax.text(1.02, TotPag18.TOTAL.mean(), \"Mean: \" + str(TotPag18.TOTAL.mean()),transform=ax.get_yaxis_transform())\n",
    "ax.set_xticks(index + bar_width / 2)\n",
    "ax.set_xticklabels(TotPag18.ESTACION)\n",
    "ax.legend()\n",
    "\n",
    "fig.tight_layout()\n",
    "plt.show()"
   ]
  },
  {
   "cell_type": "markdown",
   "metadata": {},
   "source": [
    "BARRAS Y PIE"
   ]
  },
  {
   "cell_type": "code",
   "execution_count": null,
   "metadata": {},
   "outputs": [],
   "source": [
    "# Pie chart\n",
    "labels = TotPag18.ESTACION\n",
    "sizes = TotPag18.TOTAL\n",
    "#explode = (0, 0.1, 0, 0)  # only \"explode\" the 2nd slice (i.e. 'Hogs')\n",
    "\n",
    "#bar chart\n",
    "index = np.arange(TotPag18.ESTACION.count())\n",
    "bar_width = 0.35\n",
    "opacity = 0.4\n",
    "\n",
    "\n",
    "\n",
    "fig, axs = plt.subplots(2, 1, figsize=(30,10))\n",
    "axs[0].pie(sizes,  labels=labels, autopct='%1.1f%%',shadow=True, startangle=90)                     \n",
    "axs[1].bar(index, TotPag18.TOTAL, bar_width,\n",
    "                alpha=opacity, color='b',\n",
    "                label='Estacion')\n",
    "axs[1].set_xticks(index + bar_width / 2)\n",
    "axs[1].set_xticklabels(TotPag18.ESTACION)\n",
    "axs[1].legend()\n",
    "\n",
    "\n",
    "#fig.tight_layout()\n",
    "\n",
    "plt.show()\n",
    "\n",
    "                            \n",
    "                 "
   ]
  },
  {
   "cell_type": "code",
   "execution_count": null,
   "metadata": {},
   "outputs": [],
   "source": [
    "\n",
    "#limpiar las estaciones que estan mal\n",
    "#LINDTWD['ESTACION']=LINDTWD['ESTACION'].apply(lambda x: 'Aguero' if 'Agüero' in x else x)\n",
    "#LINDTWD.ESTACION.unique()\n"
   ]
  },
  {
   "cell_type": "code",
   "execution_count": null,
   "metadata": {},
   "outputs": [],
   "source": [
    "#esto es otro subset que hice para probar algo, no es necesario correrlo\n",
    "mol_2018 = pd.read_csv(r'C:\\Users\\alejandro.m.gizzi\\Documents\\Mine\\Mol 2018.csv', sep=\",\")\n",
    "mol_2018.columns = map(str.upper, mol_2018.columns)\n",
    "mol_2018['FECHA'] = pd.to_datetime(mol_2018['FECHA'])\n",
    "mol_2018['Month'] = pd.DatetimeIndex(mol_2018['FECHA']).month\n",
    "mol_2018.drop(['PAX_PAGOS'],axis=1,inplace=True)\n",
    "mol_2018.drop(['PAX_PASES_PAGOS'],axis=1,inplace=True)\n",
    "mol_2018.drop(['PAX_FRANQ'],axis=1,inplace=True)\n",
    "\n",
    "mol_2018 = mol_2018[mol_2018.MOLINETE.apply(lambda x: 'LineaD' in x)]\n",
    "\n",
    "\n",
    "#mol_2018['TOTAL'].fillna(0, inplace=True)\n",
    "\n",
    "\n",
    "mol_2018.dropna(how='any', inplace=True)\n",
    "mol_2018.to_csv(\"Linea_D_sintwitt2.csv\", sep=';', encoding='utf-8')\n",
    "\n"
   ]
  },
  {
   "cell_type": "markdown",
   "metadata": {},
   "source": [
    "PLOTLY GRAFICOS (MAS DINAMICOS)"
   ]
  },
  {
   "cell_type": "markdown",
   "metadata": {},
   "source": [
    "Configuracion plotly\n"
   ]
  },
  {
   "cell_type": "code",
   "execution_count": null,
   "metadata": {},
   "outputs": [],
   "source": [
    "import sys\n",
    "import plotly \n",
    "import plotly.plotly as py\n",
    "import json\n",
    "import requests\n",
    "from requests.auth import HTTPBasicAuth\n",
    "\n",
    "\n",
    "username = 'alekido' # Replace with YOUR USERNAME\n",
    "api_key = 'JPkecUvguXvx2Kwehb8G' # Replace with YOUR API KEY\n",
    "\n",
    "plotly.tools.set_credentials_file(username=username, api_key=api_key)\n",
    "\n",
    "\n",
    "\n",
    "auth = HTTPBasicAuth(username, api_key)\n",
    "headers = {'Plotly-Client-Platform': 'python'}\n",
    "plotly.tools.set_credentials_file(username=username, api_key=api_key)\n",
    "def get_pages(username, page_size):\n",
    "    url = 'https://api.plot.ly/v2/folders/all?user='+username+'&page_size='+str(page_size)\n",
    "    response = requests.get(url, auth=auth, headers=headers)\n",
    "    if response.status_code != 200:\n",
    "        return\n",
    "    page = json.loads(response.content)\n",
    "    yield page\n",
    "    while True:\n",
    "        resource = page['children']['next'] \n",
    "        if not resource:\n",
    "            break\n",
    "        response = requests.get(resource, auth=auth, headers=headers)\n",
    "        if response.status_code != 200:\n",
    "            break\n",
    "        page = json.loads(response.content)\n",
    "        yield page\n",
    "        \n",
    "\n",
    "def permanently_delete_files(username, page_size=500, filetype_to_delete='plot'):\n",
    "    for page in get_pages(username, page_size):\n",
    "        for x in range(0, len(page['children']['results'])):\n",
    "            fid = page['children']['results'][x]['fid']\n",
    "            res = requests.get('https://api.plot.ly/v2/files/' + fid, auth=auth, headers=headers)\n",
    "            res.raise_for_status()\n",
    "            if res.status_code == 200:\n",
    "                json_res = json.loads(res.content)\n",
    "                if json_res['filetype'] == filetype_to_delete:\n",
    "                    # move to trash\n",
    "                    requests.post('https://api.plot.ly/v2/files/'+fid+'/trash', auth=auth, headers=headers)\n",
    "                    # permanently delete\n",
    "                    requests.delete('https://api.plot.ly/v2/files/'+fid+'/permanent_delete', auth=auth, headers=headers)\n",
    "\n",
    "                    \n",
    "                    \n",
    "                    \n",
    "                    \n",
    "permanently_delete_files('alekido', filetype_to_delete='plot')\n",
    "permanently_delete_files('alekido', filetype_to_delete='grid')"
   ]
  },
  {
   "cell_type": "markdown",
   "metadata": {},
   "source": [
    "Graficos"
   ]
  },
  {
   "cell_type": "code",
   "execution_count": 16,
   "metadata": {},
   "outputs": [],
   "source": [
    "import numpy as np\n",
    "import plotly.plotly as py\n",
    "import plotly.graph_objs as go\n",
    "import pandas as pd\n",
    "from datetime import datetime\n",
    "from plotly import tools"
   ]
  },
  {
   "cell_type": "markdown",
   "metadata": {},
   "source": [
    "Dos plots uno mixeado"
   ]
  },
  {
   "cell_type": "code",
   "execution_count": null,
   "metadata": {},
   "outputs": [],
   "source": [
    "\n",
    "#df = pd.read_csv('C:\\Users\\alejandro.m.gizzi\\Documents\\Mine\\LineaDcontwit.csv', sep=\";\")\n",
    "#cambiar la ruta de donde esta el archivo\n",
    "#df = pd.read_csv('/home/ale/Documents/TP FINAL/Areadytoplot.csv', sep=\";\")\n",
    "#df['FECHA'] = pd.to_datetime(df['FECHA'])\n",
    "#df['ESTACION'] = df['ESTACION'].astype('str')\n",
    "#df['DESDE'] = pd.to_datetime(pd.Series(df['DESDE']), format='%H:%M:%S')\n",
    "\n",
    "#jueguen con esto para ir filtrando el dataset\n",
    "sdf = df[(df['ESTACION'] =='Catedral') &  (df['FECHA'] =='2018-04-01')]\n",
    "\n",
    "#https://stackoverflow.com/questions/51181729/custom-plotly-markers-based-on-variable-value\n",
    "def SetColor(x):\n",
    "    if(x !='Normal'):\n",
    "        return \"red\"\n",
    "    else:\n",
    "        return \"green\"\n",
    "\n",
    "def Setsize(x):\n",
    "    if(x !='Normal'):\n",
    "        return 40\n",
    "    else:\n",
    "        return 5\n",
    "    \n",
    "#https://plot.ly/python/figure-labels/\n",
    "#https://plot.ly/python/offline/\n",
    "data1 = go.Scatter(x=sdf.DESDE,y=sdf['TOTAL'],mode ='lines+markers',\n",
    "                   name=\"Total horario\",\n",
    "                   text=sdf['TEXT'],\n",
    "                   marker = dict(color=list(map(SetColor, sdf['Issuetype'])),\n",
    "                                size=list(map(Setsize, sdf['Issuetype']))))\n",
    "\n",
    "\n",
    "data2 = go.Scatter(x=sdf.DESDE,y=sdf['MEAN'].apply(np.round),name=\"MEAN\")\n",
    "\n",
    "fig = tools.make_subplots(rows=1, cols=2)\n",
    "\n",
    "fig.append_trace(data1, 1, 1)\n",
    "fig.append_trace(data2, 1, 2)\n",
    "\n",
    "\n",
    "\n",
    "py.iplot(fig)"
   ]
  },
  {
   "cell_type": "markdown",
   "metadata": {},
   "source": [
    "Mas de un plot"
   ]
  },
  {
   "cell_type": "code",
   "execution_count": null,
   "metadata": {},
   "outputs": [],
   "source": [
    "sdf = df[(df['MOLINETE'] =='LINEA_A_CBARROS_S_TURN01') & (df['FECHA'] =='2018-08-01')]\n",
    "sdf2 = df[(df['MOLINETE'] =='LINEA_A_LIMA_S_TURN03') & (df['FECHA'] =='2018-08-01')]\n",
    "sdf3 = df[(df['MOLINETE'] =='LINEA_A_SANPEDRITO_ESTE_TURN04') & (df['FECHA'] =='2018-08-01')]\n",
    "sdf4 = df[(df['MOLINETE'] =='LINEA_A_ACOYTE_N_TURN05') & (df['FECHA'] =='2018-08-01')]\n",
    "sdf5 = df[(df['MOLINETE'] =='LINEA_A_PJUNTA_S_TURN02') & (df['FECHA'] =='2018-08-01')]\n",
    "\n",
    "#https://stackoverflow.com/questions/51181729/custom-plotly-markers-based-on-variable-value\n",
    "def SetColor(x):\n",
    "    if(x !='Normal'):\n",
    "        return \"red\"\n",
    "    else:\n",
    "        return \"green\"\n",
    "\n",
    "def Setsize(x):\n",
    "    if(x !='Normal'):\n",
    "        return 40\n",
    "    else:\n",
    "        return 5\n",
    "    \n",
    "#https://plot.ly/python/figure-labels/\n",
    "#https://plot.ly/python/offline/\n",
    "data1 = go.Scatter(x=sdf.DESDE,y=sdf['TOTAL'],mode ='lines+markers',\n",
    "                   name=\"MOL1\",\n",
    "                   text=sdf['TEXT'],\n",
    "                   marker = dict(color=list(map(SetColor, sdf['Issuetype'])),\n",
    "                                size=list(map(Setsize, sdf['Issuetype']))))\n",
    "\n",
    "\n",
    "\n",
    "\n",
    "data2 = go.Scatter(x=sdf2.DESDE,y=sdf2['TOTAL'].apply(np.round),name=\"MOL2\")\n",
    "data3 = go.Scatter(x=sdf3.DESDE,y=sdf3['TOTAL'].apply(np.round),name=\"MOL3\")\n",
    "data4 = go.Scatter(x=sdf4.DESDE,y=sdf4['TOTAL'].apply(np.round),name=\"MOL4\")\n",
    "data5 = go.Scatter(x=sdf5.DESDE,y=sdf5['TOTAL'].apply(np.round),name=\"MOL5\")\n",
    "\n",
    "fig = tools.make_subplots(rows=3, cols=2)\n",
    "\n",
    "fig.append_trace(data1, 1, 1)\n",
    "fig.append_trace(data2, 1, 2)\n",
    "fig.append_trace(data3, 2, 1)\n",
    "fig.append_trace(data4, 2, 2)\n",
    "fig.append_trace(data5, 3, 1)\n",
    "\n",
    "\n",
    "\n",
    "py.iplot(fig)"
   ]
  },
  {
   "cell_type": "code",
   "execution_count": null,
   "metadata": {},
   "outputs": [],
   "source": [
    "#dataframe con totales de estacion y molinete de la linea D\n",
    "df['Issue'] = df.Issuetype.apply(lambda x: 0 if x == 'Normal' else 1)\n",
    "dftot=df.groupby(['ESTACION','MOLINETE'], as_index=False)['TOTAL'].sum()\n",
    "dfdfis=df.groupby(['ESTACION','MOLINETE'], as_index=False)['Issue'].sum()\n",
    "\n",
    "dfnew = pd.merge(dftot,dfdfis,how='left',on=['ESTACION','MOLINETE'])\n",
    "dfnew"
   ]
  },
  {
   "cell_type": "markdown",
   "metadata": {},
   "source": [
    "Subset de todas las lineas para los graficos de presentacion"
   ]
  },
  {
   "cell_type": "code",
   "execution_count": 4,
   "metadata": {
    "collapsed": true
   },
   "outputs": [
    {
     "name": "stderr",
     "output_type": "stream",
     "text": [
      "/home/ale/anaconda3/lib/python3.7/site-packages/ipykernel_launcher.py:31: SettingWithCopyWarning:\n",
      "\n",
      "\n",
      "A value is trying to be set on a copy of a slice from a DataFrame\n",
      "\n",
      "See the caveats in the documentation: http://pandas.pydata.org/pandas-docs/stable/indexing.html#indexing-view-versus-copy\n",
      "\n",
      "/home/ale/anaconda3/lib/python3.7/site-packages/ipykernel_launcher.py:32: SettingWithCopyWarning:\n",
      "\n",
      "\n",
      "A value is trying to be set on a copy of a slice from a DataFrame\n",
      "\n",
      "See the caveats in the documentation: http://pandas.pydata.org/pandas-docs/stable/indexing.html#indexing-view-versus-copy\n",
      "\n",
      "/home/ale/anaconda3/lib/python3.7/site-packages/ipykernel_launcher.py:33: SettingWithCopyWarning:\n",
      "\n",
      "\n",
      "A value is trying to be set on a copy of a slice from a DataFrame\n",
      "\n",
      "See the caveats in the documentation: http://pandas.pydata.org/pandas-docs/stable/indexing.html#indexing-view-versus-copy\n",
      "\n",
      "/home/ale/anaconda3/lib/python3.7/site-packages/ipykernel_launcher.py:34: SettingWithCopyWarning:\n",
      "\n",
      "\n",
      "A value is trying to be set on a copy of a slice from a DataFrame\n",
      "\n",
      "See the caveats in the documentation: http://pandas.pydata.org/pandas-docs/stable/indexing.html#indexing-view-versus-copy\n",
      "\n",
      "/home/ale/anaconda3/lib/python3.7/site-packages/ipykernel_launcher.py:35: SettingWithCopyWarning:\n",
      "\n",
      "\n",
      "A value is trying to be set on a copy of a slice from a DataFrame\n",
      "\n",
      "See the caveats in the documentation: http://pandas.pydata.org/pandas-docs/stable/indexing.html#indexing-view-versus-copy\n",
      "\n",
      "/home/ale/anaconda3/lib/python3.7/site-packages/ipykernel_launcher.py:36: SettingWithCopyWarning:\n",
      "\n",
      "\n",
      "A value is trying to be set on a copy of a slice from a DataFrame\n",
      "\n",
      "See the caveats in the documentation: http://pandas.pydata.org/pandas-docs/stable/indexing.html#indexing-view-versus-copy\n",
      "\n"
     ]
    }
   ],
   "source": [
    "mol_2018 = pd.read_csv(r'/home/ale/Documents/Clases Python /TP FINAL/Mol 2018.csv', sep=\",\")\n",
    "\n",
    "mol_2018.columns = map(str.upper, mol_2018.columns)\n",
    "mol_2018['FECHA'] = pd.to_datetime(mol_2018['FECHA'])\n",
    "mol_2018['Month'] = pd.DatetimeIndex(mol_2018['FECHA']).month\n",
    "mol_2018['Year'] = pd.DatetimeIndex(mol_2018['FECHA']).year\n",
    "\n",
    "mol_2018.drop(['PAX_PAGOS'],axis=1,inplace=True)\n",
    "mol_2018.drop(['PAX_PASES_PAGOS'],axis=1,inplace=True)\n",
    "mol_2018.drop(['PAX_FRANQ'],axis=1,inplace=True)\n",
    "\n",
    "mol_2018['TOTAL'].fillna(0, inplace=True)\n",
    "mol_2018.dropna(how='any', inplace=True)\n",
    "\n",
    "malestag=['AgÃ\\x83Â\\x83Ã\\x82Â\\x83Ã\\x83Â\\x82Ã\\x82Â\\x83Ã\\x83Â\\x83Ã\\x82Â\\x82Ã\\x83Â\\x82Ã\\x82Â\\x83Ã\\x83Â\\x83Ã\\x82Â\\x83Ã\\x83Â\\x82Ã\\x82Â\\x82Ã\\x83Â\\x83Ã\\x82Â\\x82Ã\\x83Â\\x82Ã\\x82Â¼ero',\n",
    "       'AgÃ\\x83Â\\x83Ã\\x82Â\\x83Ã\\x83Â\\x82Ã\\x82Â\\x83Ã\\x83Â\\x83Ã\\x82Â\\x82Ã\\x83Â\\x82Ã\\x82Â¼ero',\n",
    "       'AgÃ\\x83Â\\x83Ã\\x82Â\\x83Ã\\x83Â\\x82Ã\\x82Â¼ero',\n",
    "       'AgÃ\\x83Â\\x83Ã\\x82Â¼ero','AgÃ\\x83Â¼ero','AgÃ¼ero', 'Agüero']\n",
    "\n",
    "mol_2018['ESTACION'] = mol_2018.ESTACION.apply(lambda x: 'AGUERO' if x in malestag else x)\n",
    "\n",
    "\n",
    "malestsp = ['SAENZ PEÃ\\x83Â\\x83Ã\\x82Â\\x83Ã\\x83Â\\x82Ã\\x82Â\\x83Ã\\x83Â\\x83Ã\\x82Â\\x82Ã\\x83Â\\x82Ã\\x82Â\\x83Ã\\x83Â\\x83Ã\\x82Â\\x83Ã\\x83Â\\x82Ã\\x82Â\\x82Ã\\x83Â\\x83Ã\\x82Â\\x82Ã\\x83Â\\x82Ã\\x82Â\\x91A',\n",
    "           'Saenz PeÃ\\x83Â\\x83Ã\\x82Â\\x83Ã\\x83Â\\x82Ã\\x82Â\\x83Ã\\x83Â\\x83Ã\\x82Â\\x82Ã\\x83Â\\x82Ã\\x82Â\\x83Ã\\x83Â\\x83Ã\\x82Â\\x83Ã\\x83Â\\x82Ã\\x82Â\\x82Ã\\x83Â\\x83Ã\\x82Â\\x82Ã\\x83Â\\x82Ã\\x82Â±a ',\n",
    "           'Saenz PeÃ\\x83Â\\x83Ã\\x82Â\\x83Ã\\x83Â\\x82Ã\\x82Â\\x83Ã\\x83Â\\x83Ã\\x82Â\\x82Ã\\x83Â\\x82Ã\\x82Â±a ',\n",
    "           'Saenz PeÃ\\x83Â\\x83Ã\\x82Â\\x83Ã\\x83Â\\x82Ã\\x82Â±a ',\n",
    "           'Saenz PeÃ\\x83Â\\x83Ã\\x82Â±a ','Saenz PeÃ\\x83Â±a ','Saenz PeÃ±a ', 'Saenz Peña ']\n",
    "mol_2018['ESTACION'] = mol_2018.ESTACION.apply(lambda x: 'Saenz Pena' if x in malestsp else x)\n",
    "\n",
    "\n",
    "mol_2018['LINEA'][mol_2018['LINEA'] =='LineaA'] = \"LINEA_A\"\n",
    "mol_2018['LINEA'][mol_2018['LINEA'] =='LineaB'] = \"LINEA_B\"\n",
    "mol_2018['LINEA'][mol_2018['LINEA'] =='LineaC'] = \"LINEA_C\"\n",
    "mol_2018['LINEA'][mol_2018['LINEA'] =='LineaD'] = \"LINEA_D\"\n",
    "mol_2018['LINEA'][mol_2018['LINEA'] =='LineaE'] = \"LINEA_E\"\n",
    "mol_2018['LINEA'][mol_2018['LINEA'] =='LineaH'] = \"LINEA_H\"\n",
    "\n",
    "\n",
    "mol_2018.to_csv(\"Todaslineas.csv\", sep=';', encoding='utf-8')\n",
    "\n",
    "\n",
    "#atot=mol_2018.groupby(['ESTACION','MOLINETE','FECHA'], as_index=False)['TOTAL'].sum()\n",
    "#atot"
   ]
  },
  {
   "cell_type": "markdown",
   "metadata": {},
   "source": [
    "Pie con totales por linea"
   ]
  },
  {
   "cell_type": "code",
   "execution_count": 4,
   "metadata": {
    "scrolled": false
   },
   "outputs": [
    {
     "data": {
      "image/png": "[encoded data removed]",
      "text/plain": [
       "<Figure size 2160x720 with 1 Axes>"
      ]
     },
     "metadata": {},
     "output_type": "display_data"
    }
   ],
   "source": [
    "mol_2018 = pd.read_csv(r'/home/ale/Documents/Clases Python /TP FINAL/Todaslineas.csv', sep=\";\")\n",
    "totlinea=mol_2018.groupby('LINEA', as_index=False)['TOTAL'].sum()\n",
    "\n",
    "\n",
    "labels = totlinea.LINEA\n",
    "sizes = totlinea.TOTAL\n",
    "\n",
    "fig, axs = plt.subplots(figsize=(30,10))\n",
    "axs.pie(sizes,  labels=labels, autopct='%1.1f%%',shadow=True, startangle=90)\n",
    "axs.set_title('Total Pasajeros por Linea 2018')\n",
    "\n",
    "\n",
    "plt.show()\n"
   ]
  },
  {
   "cell_type": "markdown",
   "metadata": {},
   "source": [
    "BARRA Y PIE con totales por linea"
   ]
  },
  {
   "cell_type": "code",
   "execution_count": 3,
   "metadata": {},
   "outputs": [
    {
     "data": {
      "image/png": "[encoded data removed]",
      "text/plain": [
       "<Figure size 2160x1440 with 2 Axes>"
      ]
     },
     "metadata": {
      "needs_background": "light"
     },
     "output_type": "display_data"
    }
   ],
   "source": [
    "labels = totlinea.LINEA\n",
    "sizes = totlinea.TOTAL\n",
    "#explode = (0, 0.1, 0, 0)  # only \"explode\" the 2nd slice (i.e. 'Hogs')\n",
    "\n",
    "#bar chart\n",
    "index = np.arange(totlinea.LINEA.count())\n",
    "bar_width = 0.35\n",
    "opacity = 0.4\n",
    "\n",
    "\n",
    "\n",
    "fig, axs = plt.subplots(2, 1, figsize=(30,20))\n",
    "axs[0].pie(sizes,  labels=labels, autopct='%1.1f%%',shadow=True, startangle=90)                     \n",
    "axs[1].bar(index, totlinea.TOTAL, bar_width,\n",
    "                alpha=opacity, color=np.random.rand ( 256,3),\n",
    "                label='Estacion')\n",
    "axs[1].set_xticks(index + bar_width / 2)\n",
    "axs[1].set_xticklabels(totlinea.LINEA)\n",
    "axs[1].legend()\n",
    "\n",
    "\n",
    "#fig.tight_layout()\n",
    "\n",
    "plt.show()\n"
   ]
  },
  {
   "cell_type": "markdown",
   "metadata": {},
   "source": [
    "Grafico LINEAL con totales por linea"
   ]
  },
  {
   "cell_type": "code",
   "execution_count": 6,
   "metadata": {},
   "outputs": [
    {
     "name": "stderr",
     "output_type": "stream",
     "text": [
      "/home/ale/anaconda3/lib/python3.7/site-packages/IPython/core/display.py:689: UserWarning:\n",
      "\n",
      "Consider using IPython.display.IFrame instead\n",
      "\n"
     ]
    },
    {
     "data": {
      "text/html": [
       "<iframe id=\"igraph\" scrolling=\"no\" style=\"border:none;\" seamless=\"seamless\" src=\"https://plot.ly/~alekido/179.embed\" height=\"525px\" width=\"100%\"></iframe>"
      ],
      "text/plain": [
       "<plotly.tools.PlotlyDisplay object>"
      ]
     },
     "execution_count": 6,
     "metadata": {},
     "output_type": "execute_result"
    }
   ],
   "source": [
    "totlineames=mol_2018.groupby(['LINEA','Month'], as_index=False)['TOTAL'].sum()\n",
    "\n",
    "totlineaA=totlineames[totlineames.LINEA=='LINEA_A']\n",
    "totlineaB=totlineames[totlineames.LINEA=='LINEA_B']\n",
    "totlineaC=totlineames[totlineames.LINEA=='LINEA_C']\n",
    "totlineaD=totlineames[totlineames.LINEA=='LINEA_D']\n",
    "totlineaE=totlineames[totlineames.LINEA=='LINEA_E']\n",
    "totlineaH=totlineames[totlineames.LINEA=='LINEA_H']\n",
    "\n",
    "data1 = [go.Scatter(x=totlineaA.Month,y=totlineaA.TOTAL,mode ='lines+markers',\n",
    "                   name=\"LineaA\",\n",
    "                   text=\"\"),\n",
    "         go.Scatter(x=totlineaB.Month,y=totlineaB.TOTAL,mode ='lines+markers',\n",
    "                   name=\"LineaB\",\n",
    "                   text=\"\"),\n",
    "         go.Scatter(x=totlineaC.Month,y=totlineaC.TOTAL,mode ='lines+markers',\n",
    "                   name=\"LineaC\",\n",
    "                   text=\"\"),\n",
    "         go.Scatter(x=totlineaD.Month,y=totlineaD.TOTAL,mode ='lines+markers',\n",
    "                   name=\"LineaD\",\n",
    "                   text=\"\"),\n",
    "         go.Scatter(x=totlineaE.Month,y=totlineaE.TOTAL,mode ='lines+markers',\n",
    "                   name=\"LineaE\",\n",
    "                   text=\"\"),\n",
    "         go.Scatter(x=totlineaH.Month,y=totlineaH.TOTAL,mode ='lines+markers',\n",
    "                   name=\"LineaH\",\n",
    "                   text=\"\")]\n",
    "\n",
    "\n",
    "#data2 = go.Scatter(x=sdf.DESDE,y=sdf['MEAN'].apply(np.round),name=\"MEAN\")\n",
    "\n",
    "layout = dict(title = 'Total pasajeros por mes 2018',\n",
    "              xaxis = dict(title = 'Mes',dtick=1),\n",
    "              yaxis = dict(title = 'Cantidad pasajeros(millones)')\n",
    "              )\n",
    "\n",
    "fig = dict(data=data1,layout=layout)\n",
    "\n",
    "\n",
    "py.iplot(fig)"
   ]
  },
  {
   "cell_type": "markdown",
   "metadata": {},
   "source": [
    "Problemas de las lineas ( con dataset de twitter)"
   ]
  },
  {
   "cell_type": "code",
   "execution_count": 6,
   "metadata": {},
   "outputs": [],
   "source": [
    "twitt = pd.read_csv(\"/home/ale/Documents/Clases Python /TP FINAL/Twittermetrovias.csv\", sep=\";\")\n",
    "twitt['Issuetype']=twitt['Issuetype'].apply(lambda x: 0 if 'Normal' in x else 1)\n",
    "twitt['Month']= pd.DatetimeIndex(twitt['DATE']).month\n",
    "\n"
   ]
  },
  {
   "cell_type": "markdown",
   "metadata": {},
   "source": [
    "PIE PROBLEMAS LINEAS"
   ]
  },
  {
   "cell_type": "code",
   "execution_count": 7,
   "metadata": {},
   "outputs": [
    {
     "data": {
      "image/png": "[encoded data removed]",
      "text/plain": [
       "<Figure size 2160x720 with 1 Axes>"
      ]
     },
     "metadata": {},
     "output_type": "display_data"
    }
   ],
   "source": [
    "twitttot=twitt.groupby('LINEA', as_index=False)['Issuetype'].sum()\n",
    "\n",
    "\n",
    "labels = twitttot.LINEA\n",
    "sizes = twitttot.Issuetype\n",
    "\n",
    "fig, axs = plt.subplots(figsize=(30,10))\n",
    "axs.pie(sizes,  labels=labels, autopct='%1.1f%%',shadow=True, startangle=90)     \n",
    "axs.set_title('Total problemas por Linea 2018')\n",
    "\n",
    "plt.show()\n"
   ]
  },
  {
   "cell_type": "code",
   "execution_count": null,
   "metadata": {},
   "outputs": [],
   "source": [
    "BARRA Y PIE con problemas por linea"
   ]
  },
  {
   "cell_type": "code",
   "execution_count": 9,
   "metadata": {},
   "outputs": [
    {
     "data": {
      "image/png": "[encoded data removed]",
      "text/plain": [
       "<Figure size 2160x1440 with 2 Axes>"
      ]
     },
     "metadata": {
      "needs_background": "light"
     },
     "output_type": "display_data"
    }
   ],
   "source": [
    "labels = twitttot.LINEA\n",
    "sizes = twitttot.Issuetype\n",
    "#explode = (0, 0.1, 0, 0)  # only \"explode\" the 2nd slice (i.e. 'Hogs')\n",
    "\n",
    "#bar chart\n",
    "index = np.arange(twitttot.LINEA.count())\n",
    "bar_width = 0.35\n",
    "opacity = 0.4\n",
    "\n",
    "\n",
    "\n",
    "fig, axs = plt.subplots(2, 1, figsize=(30,20))\n",
    "axs[0].pie(sizes,  labels=labels, autopct='%1.1f%%',shadow=True, startangle=90)                     \n",
    "axs[1].bar(index, twitttot.Issuetype, bar_width,\n",
    "                alpha=opacity, color=np.random.rand ( 256,3),\n",
    "                label='Estacion')\n",
    "axs[1].set_xticks(index + bar_width / 2)\n",
    "axs[1].set_xticklabels(twitttot.LINEA)\n",
    "axs[1].legend()\n",
    "\n",
    "\n",
    "#fig.tight_layout()\n",
    "\n",
    "plt.show()"
   ]
  },
  {
   "cell_type": "markdown",
   "metadata": {},
   "source": [
    "Grafico problemas de las lineas por linea"
   ]
  },
  {
   "cell_type": "code",
   "execution_count": 10,
   "metadata": {},
   "outputs": [
    {
     "data": {
      "text/html": [
       "<iframe id=\"igraph\" scrolling=\"no\" style=\"border:none;\" seamless=\"seamless\" src=\"https://plot.ly/~alekido/181.embed\" height=\"525px\" width=\"100%\"></iframe>"
      ],
      "text/plain": [
       "<plotly.tools.PlotlyDisplay object>"
      ]
     },
     "execution_count": 10,
     "metadata": {},
     "output_type": "execute_result"
    }
   ],
   "source": [
    "twitttot=twitt.groupby(['LINEA','Month'], as_index=False)['Issuetype'].sum()\n",
    "\n",
    "twitttotA=twitttot[twitttot.LINEA=='LINEA_A']\n",
    "twitttotB=twitttot[twitttot.LINEA=='LINEA_B']\n",
    "twitttotC=twitttot[twitttot.LINEA=='LINEA_C']\n",
    "twitttotD=twitttot[twitttot.LINEA=='LINEA_D']\n",
    "twitttotE=twitttot[twitttot.LINEA=='LINEA_E']\n",
    "twitttotH=twitttot[twitttot.LINEA=='LINEA_H']\n",
    "\n",
    "data1 = [go.Scatter(x=twitttotA.Month,y=twitttotA.Issuetype,mode ='lines+markers',\n",
    "                   name=\"LineaA\",\n",
    "                   text=\"\"),\n",
    "         go.Scatter(x=twitttotB.Month,y=twitttotB.Issuetype,mode ='lines+markers',\n",
    "                   name=\"LineaB\",\n",
    "                   text=\"\"),\n",
    "         go.Scatter(x=twitttotC.Month,y=twitttotC.Issuetype,mode ='lines+markers',\n",
    "                   name=\"LineaC\",\n",
    "                   text=\"\"),\n",
    "         go.Scatter(x=twitttotD.Month,y=twitttotD.Issuetype,mode ='lines+markers',\n",
    "                   name=\"LineaD\",\n",
    "                   text=\"\"),\n",
    "         go.Scatter(x=twitttotE.Month,y=twitttotE.Issuetype,mode ='lines+markers',\n",
    "                   name=\"LineaE\",\n",
    "                   text=\"\"),\n",
    "         go.Scatter(x=twitttotH.Month,y=twitttotH.Issuetype,mode ='lines+markers',\n",
    "                   name=\"LineaH\",\n",
    "                   text=\"\")]\n",
    "\n",
    "\n",
    "#data2 = go.Scatter(x=sdf.DESDE,y=sdf['MEAN'].apply(np.round),name=\"MEAN\")\n",
    "\n",
    "layout = dict(title = 'Problemas por mes 2018',\n",
    "              xaxis = dict(title = 'Mes',dtick=1),\n",
    "              yaxis = dict(title = 'Cantidad de problemas')\n",
    "              )\n",
    "\n",
    "fig = dict(data=data1,layout=layout)\n",
    "\n",
    "\n",
    "py.iplot(fig)"
   ]
  },
  {
   "cell_type": "markdown",
   "metadata": {},
   "source": [
    "problemas de la linea A"
   ]
  },
  {
   "cell_type": "code",
   "execution_count": 17,
   "metadata": {},
   "outputs": [
    {
     "name": "stderr",
     "output_type": "stream",
     "text": [
      "/home/ale/anaconda3/lib/python3.7/site-packages/IPython/core/display.py:689: UserWarning:\n",
      "\n",
      "Consider using IPython.display.IFrame instead\n",
      "\n"
     ]
    },
    {
     "data": {
      "text/html": [
       "<iframe id=\"igraph\" scrolling=\"no\" style=\"border:none;\" seamless=\"seamless\" src=\"https://plot.ly/~alekido/183.embed\" height=\"525px\" width=\"100%\"></iframe>"
      ],
      "text/plain": [
       "<plotly.tools.PlotlyDisplay object>"
      ]
     },
     "execution_count": 17,
     "metadata": {},
     "output_type": "execute_result"
    }
   ],
   "source": [
    "LINEAA=twitt[twitt.LINEA=='LINEA_A']\n",
    "LINEAATOT=LINEAA.groupby(['LINEA','Month'], as_index=False)['Issuetype'].sum()\n",
    "\n",
    "data1 = [go.Scatter(x=LINEAATOT.Month,y=LINEAATOT.Issuetype,mode ='lines+markers',\n",
    "                   name=\"LineaA\")]\n",
    "\n",
    "layout = dict(title = 'Problemas por mes 2018',\n",
    "              xaxis = dict(title = 'Mes',dtick=1),\n",
    "              yaxis = dict(title = 'Cantidad de problemas')\n",
    "              )\n",
    "\n",
    "fig = dict(data=data1,layout=layout)\n",
    "\n",
    "\n",
    "py.iplot(fig)"
   ]
  },
  {
   "cell_type": "code",
   "execution_count": 38,
   "metadata": {
    "collapsed": true
   },
   "outputs": [
    {
     "data": {
      "image/png": "[encoded data removed]",
      "text/plain": [
       "<Figure size 1440x1440 with 1 Axes>"
      ]
     },
     "metadata": {
      "needs_background": "light"
     },
     "output_type": "display_data"
    }
   ],
   "source": [
    "\n",
    "#LINEAA['Issuetype2']=LINEAA['Issuetype'].apply(lambda x: 0 if 'Normal' in x else 1)\n",
    "#LINEAA['Issuetype']=LINEAA['TEXT'].apply(lambda x: 'demora' if 'demora' in x else 'interrumpido' if 'interrumpido' in x else 'Normal' if 'frecuencia normal' in x else 'limitado' if 'limitado' in x else 'Normal')\n",
    "#LINEAA\n",
    "LINEAA2=LINEAA.groupby(['Issuetype'], as_index=False)['Issuetype2'].sum()\n",
    "LINEAA2=LINEAA2[LINEAA2.Issuetype!='Normal']\n",
    "\n",
    "index = np.arange(LINEAA2.Issuetype.count())\n",
    "bar_width = 0.35\n",
    "opacity = 0.4\n",
    "\n",
    "\n",
    "\n",
    "fig, axs = plt.subplots( figsize=(20,20))                  \n",
    "axs.bar(index, LINEAA2.Issuetype2, bar_width,\n",
    "                alpha=opacity, color=np.random.rand ( 256,3),\n",
    "                label='Estacion')\n",
    "axs.set_xticks(index + bar_width / 2)\n",
    "axs.set_xticklabels(LINEAA2.Issuetype)\n",
    "axs.legend()\n",
    "\n",
    "plt.show()"
   ]
  },
  {
   "cell_type": "code",
   "execution_count": 33,
   "metadata": {
    "collapsed": true
   },
   "outputs": [
    {
     "data": {
      "text/html": [
       "<div>\n",
       "<style scoped>\n",
       "    .dataframe tbody tr th:only-of-type {\n",
       "        vertical-align: middle;\n",
       "    }\n",
       "\n",
       "    .dataframe tbody tr th {\n",
       "        vertical-align: top;\n",
       "    }\n",
       "\n",
       "    .dataframe thead th {\n",
       "        text-align: right;\n",
       "    }\n",
       "</style>\n",
       "<table border=\"1\" class=\"dataframe\">\n",
       "  <thead>\n",
       "    <tr style=\"text-align: right;\">\n",
       "      <th></th>\n",
       "      <th>Issuetype</th>\n",
       "      <th>Month</th>\n",
       "      <th>Issuetype2</th>\n",
       "    </tr>\n",
       "  </thead>\n",
       "  <tbody>\n",
       "    <tr>\n",
       "      <th>0</th>\n",
       "      <td>Normal</td>\n",
       "      <td>1</td>\n",
       "      <td>0</td>\n",
       "    </tr>\n",
       "    <tr>\n",
       "      <th>1</th>\n",
       "      <td>Normal</td>\n",
       "      <td>2</td>\n",
       "      <td>0</td>\n",
       "    </tr>\n",
       "    <tr>\n",
       "      <th>2</th>\n",
       "      <td>Normal</td>\n",
       "      <td>3</td>\n",
       "      <td>0</td>\n",
       "    </tr>\n",
       "    <tr>\n",
       "      <th>3</th>\n",
       "      <td>Normal</td>\n",
       "      <td>4</td>\n",
       "      <td>0</td>\n",
       "    </tr>\n",
       "    <tr>\n",
       "      <th>4</th>\n",
       "      <td>Normal</td>\n",
       "      <td>5</td>\n",
       "      <td>0</td>\n",
       "    </tr>\n",
       "    <tr>\n",
       "      <th>5</th>\n",
       "      <td>Normal</td>\n",
       "      <td>6</td>\n",
       "      <td>0</td>\n",
       "    </tr>\n",
       "    <tr>\n",
       "      <th>6</th>\n",
       "      <td>Normal</td>\n",
       "      <td>7</td>\n",
       "      <td>0</td>\n",
       "    </tr>\n",
       "    <tr>\n",
       "      <th>7</th>\n",
       "      <td>Normal</td>\n",
       "      <td>8</td>\n",
       "      <td>0</td>\n",
       "    </tr>\n",
       "    <tr>\n",
       "      <th>8</th>\n",
       "      <td>Normal</td>\n",
       "      <td>9</td>\n",
       "      <td>0</td>\n",
       "    </tr>\n",
       "    <tr>\n",
       "      <th>9</th>\n",
       "      <td>Normal</td>\n",
       "      <td>10</td>\n",
       "      <td>0</td>\n",
       "    </tr>\n",
       "    <tr>\n",
       "      <th>10</th>\n",
       "      <td>Normal</td>\n",
       "      <td>11</td>\n",
       "      <td>0</td>\n",
       "    </tr>\n",
       "    <tr>\n",
       "      <th>11</th>\n",
       "      <td>Normal</td>\n",
       "      <td>12</td>\n",
       "      <td>0</td>\n",
       "    </tr>\n",
       "    <tr>\n",
       "      <th>12</th>\n",
       "      <td>demora</td>\n",
       "      <td>1</td>\n",
       "      <td>3</td>\n",
       "    </tr>\n",
       "    <tr>\n",
       "      <th>13</th>\n",
       "      <td>demora</td>\n",
       "      <td>2</td>\n",
       "      <td>2</td>\n",
       "    </tr>\n",
       "    <tr>\n",
       "      <th>14</th>\n",
       "      <td>demora</td>\n",
       "      <td>5</td>\n",
       "      <td>7</td>\n",
       "    </tr>\n",
       "    <tr>\n",
       "      <th>15</th>\n",
       "      <td>demora</td>\n",
       "      <td>6</td>\n",
       "      <td>3</td>\n",
       "    </tr>\n",
       "    <tr>\n",
       "      <th>16</th>\n",
       "      <td>demora</td>\n",
       "      <td>7</td>\n",
       "      <td>7</td>\n",
       "    </tr>\n",
       "    <tr>\n",
       "      <th>17</th>\n",
       "      <td>demora</td>\n",
       "      <td>8</td>\n",
       "      <td>4</td>\n",
       "    </tr>\n",
       "    <tr>\n",
       "      <th>18</th>\n",
       "      <td>demora</td>\n",
       "      <td>9</td>\n",
       "      <td>2</td>\n",
       "    </tr>\n",
       "    <tr>\n",
       "      <th>19</th>\n",
       "      <td>demora</td>\n",
       "      <td>10</td>\n",
       "      <td>3</td>\n",
       "    </tr>\n",
       "    <tr>\n",
       "      <th>20</th>\n",
       "      <td>demora</td>\n",
       "      <td>11</td>\n",
       "      <td>3</td>\n",
       "    </tr>\n",
       "    <tr>\n",
       "      <th>21</th>\n",
       "      <td>demora</td>\n",
       "      <td>12</td>\n",
       "      <td>1</td>\n",
       "    </tr>\n",
       "    <tr>\n",
       "      <th>22</th>\n",
       "      <td>interrumpido</td>\n",
       "      <td>1</td>\n",
       "      <td>1</td>\n",
       "    </tr>\n",
       "    <tr>\n",
       "      <th>23</th>\n",
       "      <td>interrumpido</td>\n",
       "      <td>2</td>\n",
       "      <td>1</td>\n",
       "    </tr>\n",
       "    <tr>\n",
       "      <th>24</th>\n",
       "      <td>interrumpido</td>\n",
       "      <td>4</td>\n",
       "      <td>1</td>\n",
       "    </tr>\n",
       "    <tr>\n",
       "      <th>25</th>\n",
       "      <td>interrumpido</td>\n",
       "      <td>5</td>\n",
       "      <td>6</td>\n",
       "    </tr>\n",
       "    <tr>\n",
       "      <th>26</th>\n",
       "      <td>interrumpido</td>\n",
       "      <td>6</td>\n",
       "      <td>3</td>\n",
       "    </tr>\n",
       "    <tr>\n",
       "      <th>27</th>\n",
       "      <td>interrumpido</td>\n",
       "      <td>7</td>\n",
       "      <td>5</td>\n",
       "    </tr>\n",
       "    <tr>\n",
       "      <th>28</th>\n",
       "      <td>interrumpido</td>\n",
       "      <td>8</td>\n",
       "      <td>4</td>\n",
       "    </tr>\n",
       "    <tr>\n",
       "      <th>29</th>\n",
       "      <td>interrumpido</td>\n",
       "      <td>9</td>\n",
       "      <td>4</td>\n",
       "    </tr>\n",
       "    <tr>\n",
       "      <th>30</th>\n",
       "      <td>interrumpido</td>\n",
       "      <td>10</td>\n",
       "      <td>3</td>\n",
       "    </tr>\n",
       "    <tr>\n",
       "      <th>31</th>\n",
       "      <td>interrumpido</td>\n",
       "      <td>11</td>\n",
       "      <td>3</td>\n",
       "    </tr>\n",
       "    <tr>\n",
       "      <th>32</th>\n",
       "      <td>interrumpido</td>\n",
       "      <td>12</td>\n",
       "      <td>2</td>\n",
       "    </tr>\n",
       "    <tr>\n",
       "      <th>33</th>\n",
       "      <td>limitado</td>\n",
       "      <td>1</td>\n",
       "      <td>4</td>\n",
       "    </tr>\n",
       "    <tr>\n",
       "      <th>34</th>\n",
       "      <td>limitado</td>\n",
       "      <td>2</td>\n",
       "      <td>5</td>\n",
       "    </tr>\n",
       "    <tr>\n",
       "      <th>35</th>\n",
       "      <td>limitado</td>\n",
       "      <td>3</td>\n",
       "      <td>2</td>\n",
       "    </tr>\n",
       "    <tr>\n",
       "      <th>36</th>\n",
       "      <td>limitado</td>\n",
       "      <td>4</td>\n",
       "      <td>2</td>\n",
       "    </tr>\n",
       "    <tr>\n",
       "      <th>37</th>\n",
       "      <td>limitado</td>\n",
       "      <td>5</td>\n",
       "      <td>5</td>\n",
       "    </tr>\n",
       "    <tr>\n",
       "      <th>38</th>\n",
       "      <td>limitado</td>\n",
       "      <td>6</td>\n",
       "      <td>1</td>\n",
       "    </tr>\n",
       "    <tr>\n",
       "      <th>39</th>\n",
       "      <td>limitado</td>\n",
       "      <td>7</td>\n",
       "      <td>37</td>\n",
       "    </tr>\n",
       "    <tr>\n",
       "      <th>40</th>\n",
       "      <td>limitado</td>\n",
       "      <td>8</td>\n",
       "      <td>37</td>\n",
       "    </tr>\n",
       "    <tr>\n",
       "      <th>41</th>\n",
       "      <td>limitado</td>\n",
       "      <td>9</td>\n",
       "      <td>38</td>\n",
       "    </tr>\n",
       "    <tr>\n",
       "      <th>42</th>\n",
       "      <td>limitado</td>\n",
       "      <td>10</td>\n",
       "      <td>47</td>\n",
       "    </tr>\n",
       "    <tr>\n",
       "      <th>43</th>\n",
       "      <td>limitado</td>\n",
       "      <td>11</td>\n",
       "      <td>33</td>\n",
       "    </tr>\n",
       "    <tr>\n",
       "      <th>44</th>\n",
       "      <td>limitado</td>\n",
       "      <td>12</td>\n",
       "      <td>3</td>\n",
       "    </tr>\n",
       "  </tbody>\n",
       "</table>\n",
       "</div>"
      ],
      "text/plain": [
       "       Issuetype  Month  Issuetype2\n",
       "0         Normal      1           0\n",
       "1         Normal      2           0\n",
       "2         Normal      3           0\n",
       "3         Normal      4           0\n",
       "4         Normal      5           0\n",
       "5         Normal      6           0\n",
       "6         Normal      7           0\n",
       "7         Normal      8           0\n",
       "8         Normal      9           0\n",
       "9         Normal     10           0\n",
       "10        Normal     11           0\n",
       "11        Normal     12           0\n",
       "12        demora      1           3\n",
       "13        demora      2           2\n",
       "14        demora      5           7\n",
       "15        demora      6           3\n",
       "16        demora      7           7\n",
       "17        demora      8           4\n",
       "18        demora      9           2\n",
       "19        demora     10           3\n",
       "20        demora     11           3\n",
       "21        demora     12           1\n",
       "22  interrumpido      1           1\n",
       "23  interrumpido      2           1\n",
       "24  interrumpido      4           1\n",
       "25  interrumpido      5           6\n",
       "26  interrumpido      6           3\n",
       "27  interrumpido      7           5\n",
       "28  interrumpido      8           4\n",
       "29  interrumpido      9           4\n",
       "30  interrumpido     10           3\n",
       "31  interrumpido     11           3\n",
       "32  interrumpido     12           2\n",
       "33      limitado      1           4\n",
       "34      limitado      2           5\n",
       "35      limitado      3           2\n",
       "36      limitado      4           2\n",
       "37      limitado      5           5\n",
       "38      limitado      6           1\n",
       "39      limitado      7          37\n",
       "40      limitado      8          37\n",
       "41      limitado      9          38\n",
       "42      limitado     10          47\n",
       "43      limitado     11          33\n",
       "44      limitado     12           3"
      ]
     },
     "execution_count": 33,
     "metadata": {},
     "output_type": "execute_result"
    }
   ],
   "source": [
    "armar grafico de anomalias con relacion al total\n",
    "poner al principio masomenos lo de la api de twitter\n",
    "graficos de barras con lienas max y minimos \n",
    "\n",
    "la hora donde se pierde mayor cantidad de plata"
   ]
  }
 ],
 "metadata": {
  "kernelspec": {
   "display_name": "Python 3",
   "language": "python",
   "name": "python3"
  },
  "language_info": {
   "codemirror_mode": {
    "name": "ipython",
    "version": 3
   },
   "file_extension": ".py",
   "mimetype": "text/x-python",
   "name": "python",
   "nbconvert_exporter": "python",
   "pygments_lexer": "ipython3",
   "version": "3.7.1"
  }
 },
 "nbformat": 4,
 "nbformat_minor": 2
}
