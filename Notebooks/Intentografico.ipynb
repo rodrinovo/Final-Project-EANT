{
 "cells": [
  {
   "cell_type": "code",
   "execution_count": null,
   "metadata": {},
   "outputs": [],
   "source": [
    "import numpy as np\n",
    "import plotly.plotly as py\n",
    "import plotly.graph_objs as go\n",
    "\n",
    "import pandas as pd\n",
    "from datetime import datetime\n",
    "\n",
    "#cambiar la ruta de donde esta el archivo\n",
    "df = pd.read_csv('/home/ale/Documents/TP FINAL/Areadytoplot.csv', sep=\";\")\n",
    "df['FECHA'] = pd.to_datetime(df['FECHA'])\n",
    "df['ESTACION'] = df['ESTACION'].astype('str')\n",
    "df['DESDE'] = pd.to_datetime(pd.Series(df['DESDE']), format='%H:%M:%S')\n",
    "\n",
    "#jueguen con esto para ir filtrando el dataset\n",
    "sdf = df[(df['MOLINETE'] =='LINEA_A_CBARROS_S_TURN01') & (df['FECHA'] =='2018-08-01')]\n",
    "\n",
    "#https://stackoverflow.com/questions/51181729/custom-plotly-markers-based-on-variable-value\n",
    "def SetColor(x):\n",
    "    if(x !='Normal'):\n",
    "        return \"red\"\n",
    "    else:\n",
    "        return \"green\"\n",
    "\n",
    "def Setsize(x):\n",
    "    if(x !='Normal'):\n",
    "        return 40\n",
    "    else:\n",
    "        return 5\n",
    "    \n",
    "#https://plot.ly/python/figure-labels/\n",
    "#https://plot.ly/python/offline/\n",
    "data = [go.Scatter(x=sdf.DESDE,y=sdf['TOTAL'],mode ='lines+markers',\n",
    "                   name=\"Total horario\",\n",
    "                   text=sdf['TEXT'],\n",
    "                   marker = dict(color=list(map(SetColor, sdf['Issuetype'])),\n",
    "                                size=list(map(Setsize, sdf['Issuetype'])))),\n",
    "        go.Scatter(x=sdf.DESDE,y=sdf['MEAN'].apply(np.round),name=\"MEAN\")]\n",
    "\n",
    "py.iplot(data)"
   ]
  }
 ],
 "metadata": {
  "kernelspec": {
   "display_name": "Python 3",
   "language": "python",
   "name": "python3"
  },
  "language_info": {
   "codemirror_mode": {
    "name": "ipython",
    "version": 3
   },
   "file_extension": ".py",
   "mimetype": "text/x-python",
   "name": "python",
   "nbconvert_exporter": "python",
   "pygments_lexer": "ipython3",
   "version": "3.7.1"
  }
 },
 "nbformat": 4,
 "nbformat_minor": 2
}
